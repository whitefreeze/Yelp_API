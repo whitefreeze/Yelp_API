{
 "cells": [
  {
   "cell_type": "code",
   "execution_count": 68,
   "id": "cb465d79",
   "metadata": {},
   "outputs": [],
   "source": [
    "# Standard Imports\n",
    "import numpy as np\n",
    "import pandas as pd\n",
    "import matplotlib.pyplot as plt\n",
    "import seaborn as sns\n",
    "\n",
    "# Additional Imports\n",
    "import os, json, math, time\n",
    "from yelpapi import YelpAPI\n",
    "from tqdm.notebook import tqdm_notebook"
   ]
  },
  {
   "cell_type": "code",
   "execution_count": 69,
   "id": "d87eafb5",
   "metadata": {},
   "outputs": [],
   "source": [
    "## install tqdm if not already installed\n",
    "# !pip install tqdm"
   ]
  },
  {
   "cell_type": "code",
   "execution_count": 70,
   "id": "c90d3957",
   "metadata": {},
   "outputs": [
    {
     "data": {
      "text/plain": [
       "dict_keys(['client-id', 'api-key'])"
      ]
     },
     "execution_count": 70,
     "metadata": {},
     "output_type": "execute_result"
    }
   ],
   "source": [
    "# Load API credentials\n",
    "with open('/Users/whitefreeze/.secret/yelp_api.json') as f:\n",
    "    login = json.load(f)\n",
    "login.keys()"
   ]
  },
  {
   "cell_type": "code",
   "execution_count": 71,
   "id": "32d80fa0",
   "metadata": {},
   "outputs": [
    {
     "data": {
      "text/plain": [
       "<yelpapi.yelpapi.YelpAPI at 0x11e9b72b0>"
      ]
     },
     "execution_count": 71,
     "metadata": {},
     "output_type": "execute_result"
    }
   ],
   "source": [
    "# Instantiate YelpAPI variable\n",
    "yelp_api = YelpAPI(login['api-key'], timeout_s=5.0)\n",
    "yelp_api"
   ]
  },
  {
   "cell_type": "code",
   "execution_count": 72,
   "id": "ca3b1dc4",
   "metadata": {
    "scrolled": false
   },
   "outputs": [
    {
     "name": "stdout",
     "output_type": "stream",
     "text": [
      "Help on method search_query in module yelpapi.yelpapi:\n",
      "\n",
      "search_query(**kwargs) method of yelpapi.yelpapi.YelpAPI instance\n",
      "    Query the Yelp Search API.\n",
      "    \n",
      "    documentation: https://www.yelp.com/developers/documentation/v3/business_search\n",
      "    \n",
      "    required parameters:\n",
      "        * one of either:\n",
      "            * location - text specifying a location to search for\n",
      "            * latitude and longitude\n",
      "\n"
     ]
    }
   ],
   "source": [
    "# For API help resources\n",
    "help(yelp_api.search_query)"
   ]
  },
  {
   "cell_type": "code",
   "execution_count": 73,
   "id": "9ea1c20f",
   "metadata": {},
   "outputs": [],
   "source": [
    "# set API call parameters\n",
    "LOCATION = \"Chattanooga, TN\"\n",
    "TERM = \"asian\""
   ]
  },
  {
   "cell_type": "code",
   "execution_count": 74,
   "id": "73bdb565",
   "metadata": {},
   "outputs": [
    {
     "data": {
      "text/plain": [
       "'Data/results_in_progress_Chattanooga_asian.json'"
      ]
     },
     "execution_count": 74,
     "metadata": {},
     "output_type": "execute_result"
    }
   ],
   "source": [
    "# Specify JSON_FILE filename (including folder)\n",
    "# include search terms in the filename\n",
    "JSON_FILE = \"Data/results_in_progress_Chattanooga_asian.json\"\n",
    "JSON_FILE"
   ]
  },
  {
   "cell_type": "code",
   "execution_count": 75,
   "id": "82023739",
   "metadata": {},
   "outputs": [
    {
     "name": "stdout",
     "output_type": "stream",
     "text": [
      "Keys from results: dict_keys(['businesses', 'total', 'region'])\n"
     ]
    }
   ],
   "source": [
    "# Find key returned from API call\n",
    "# use yelp_api variable's search_query method to perform API call\n",
    "results = yelp_api.search_query(location=LOCATION, \n",
    "                                term=TERM)\n",
    "print(f'Keys from results: {results.keys()}')"
   ]
  },
  {
   "cell_type": "code",
   "execution_count": 78,
   "id": "bb5163bc",
   "metadata": {},
   "outputs": [],
   "source": [
    "# Function to write new file or overwrite previous file\n",
    "def create_json_file(JSON_FILE, delete_if_exists = False): # Change to TRUE to overwrite existsing\n",
    "    \n",
    "    # Check if JSON_FILE exists\n",
    "    file_exists = os.path.isfile(JSON_FILE)\n",
    "    \n",
    "    # If file DOES exist:\n",
    "    if file_exists == True:\n",
    "        \n",
    "        # Check if user wants to delete file, if it exists\n",
    "        if delete_if_exists == True:\n",
    "        \n",
    "            print(f\"[!] {JSON_FILE} already exists. Deleting previous file...\")\n",
    "            \n",
    "            # Delete file and confirm it no longer exists.\n",
    "            os.remove(JSON_FILE)\n",
    "            \n",
    "            # Recursive call to function after old file deleted\n",
    "            create_json_file(JSON_FILE, delete_if_exists = False)\n",
    "        \n",
    "        else:\n",
    "            print(f\"[i] {JSON_FILE} already exists.\")\n",
    "            \n",
    "    # If file does NOT exist:\n",
    "    else:\n",
    "        \n",
    "        # Inform user and save empty list\n",
    "        print(f\"[i] {JSON_FILE} not found. Saving empty list to new file.\")\n",
    "        \n",
    "        # Create any needed folders\n",
    "        # Get folder name only\n",
    "        folder = os.path.dirname(JSON_FILE)\n",
    "        \n",
    "        # If JSON_FILE is included in a folder\n",
    "        if len(folder) > 0:\n",
    "            \n",
    "            # Create the folder\n",
    "            os.makedirs(folder, exist_ok = True)\n",
    "            \n",
    "        # Save empty list to start the json file\n",
    "        with open(JSON_FILE, 'w') as f:\n",
    "            json.dump([], f)"
   ]
  },
  {
   "cell_type": "code",
   "execution_count": 79,
   "id": "1d0a4d63",
   "metadata": {},
   "outputs": [
    {
     "name": "stdout",
     "output_type": "stream",
     "text": [
      "[i] Data/results_in_progress_Chattanooga_asian.json not found. Saving empty list to new file.\n"
     ]
    }
   ],
   "source": [
    "create_json_file(JSON_FILE, delete_if_exists = False)"
   ]
  },
  {
   "cell_type": "code",
   "execution_count": 80,
   "id": "ce69a5df",
   "metadata": {},
   "outputs": [
    {
     "name": "stdout",
     "output_type": "stream",
     "text": [
      " - 0 previous results found.\n"
     ]
    },
    {
     "data": {
      "application/vnd.jupyter.widget-view+json": {
       "model_id": "903f113a024a4062acb2f730f4f9bb0d",
       "version_major": 2,
       "version_minor": 0
      },
      "text/plain": [
       "  0%|          | 0/4 [00:00<?, ?it/s]"
      ]
     },
     "metadata": {},
     "output_type": "display_data"
    },
    {
     "name": "stdout",
     "output_type": "stream",
     "text": [
      "Total results for query: 164\n",
      "Results per page: 20\n",
      "Total number of result pages: 9\n"
     ]
    }
   ],
   "source": [
    "# Loop through each page of results from Yelp_API. Append results to running file\n",
    "\n",
    "# First, verify file empty/load previous results. \n",
    "with open(JSON_FILE, 'r') as f:\n",
    "    previous_results = json.load(f)\n",
    "    \n",
    "# Display number of previous results\n",
    "n_results = len(previous_results)\n",
    "print(f' - {n_results} previous results found.')\n",
    "\n",
    "# Loop through each page of results from Yelp_API. Append results to running file\n",
    "for i in tqdm_notebook( range( 1, n_pages+1)):\n",
    "    \n",
    "    # Read in results in progress file and check length\n",
    "    with open(JSON_FILE, 'r') as f:\n",
    "        previoius_results = json.load(f)\n",
    "        \n",
    "    # Save number of results to use as the offset\n",
    "    n_results = len(previous_results)\n",
    "    \n",
    "    # To not exceed Yelp's free tier limits\n",
    "    if(n_results + results_per_page) > 1000:\n",
    "        print('Exceeded 1000 api calls. Stopping loop.')\n",
    "        break\n",
    "    \n",
    "    # Use n_results as the offset\n",
    "    results = yelp_api.search_query(location = LOCATION,\n",
    "                                   term = TERM,\n",
    "                                   offset = n_results)\n",
    "    \n",
    "# Append new results and save to file\n",
    "previous_results.extend(results['businesses'])\n",
    "\n",
    "# How many results in total?\n",
    "total_results = results['total']\n",
    "print(f'Total results for query: {total_results}')\n",
    "\n",
    "# How many did we get the details for?\n",
    "results_per_page = len(results['businesses'])\n",
    "print(f'Results per page: {results_per_page}')\n",
    "\n",
    "# Use math.ceil to round up for the total number of pages of results.\n",
    "n_pages = math.ceil((total_results - n_results)/ results_per_page)\n",
    "print(f'Total number of result pages: {n_pages}')\n",
    "\n",
    "# Display previous_results\n",
    "with open(JSON_FILE, 'w') as f:\n",
    "    json.dump(previous_results, f)\n",
    "    \n",
    "# add 200 ms pause between api requests\n",
    "time.sleep(.2)"
   ]
  },
  {
   "cell_type": "code",
   "execution_count": 81,
   "id": "5d1ab15b",
   "metadata": {},
   "outputs": [
    {
     "data": {
      "text/html": [
       "<div>\n",
       "<style scoped>\n",
       "    .dataframe tbody tr th:only-of-type {\n",
       "        vertical-align: middle;\n",
       "    }\n",
       "\n",
       "    .dataframe tbody tr th {\n",
       "        vertical-align: top;\n",
       "    }\n",
       "\n",
       "    .dataframe thead th {\n",
       "        text-align: right;\n",
       "    }\n",
       "</style>\n",
       "<table border=\"1\" class=\"dataframe\">\n",
       "  <thead>\n",
       "    <tr style=\"text-align: right;\">\n",
       "      <th></th>\n",
       "      <th>id</th>\n",
       "      <th>alias</th>\n",
       "      <th>name</th>\n",
       "      <th>image_url</th>\n",
       "      <th>is_closed</th>\n",
       "      <th>url</th>\n",
       "      <th>review_count</th>\n",
       "      <th>categories</th>\n",
       "      <th>rating</th>\n",
       "      <th>coordinates</th>\n",
       "      <th>transactions</th>\n",
       "      <th>price</th>\n",
       "      <th>location</th>\n",
       "      <th>phone</th>\n",
       "      <th>display_phone</th>\n",
       "      <th>distance</th>\n",
       "    </tr>\n",
       "  </thead>\n",
       "  <tbody>\n",
       "    <tr>\n",
       "      <th>0</th>\n",
       "      <td>NEiSS5cDAeRgHc7TS0pxCg</td>\n",
       "      <td>steam-boys-cleveland</td>\n",
       "      <td>Steam Boys</td>\n",
       "      <td>https://s3-media3.fl.yelpcdn.com/bphoto/8Jm2hR...</td>\n",
       "      <td>False</td>\n",
       "      <td>https://www.yelp.com/biz/steam-boys-cleveland?...</td>\n",
       "      <td>35</td>\n",
       "      <td>[{'alias': 'dimsum', 'title': 'Dim Sum'}, {'al...</td>\n",
       "      <td>4.0</td>\n",
       "      <td>{'latitude': 35.2100599, 'longitude': -84.8566...</td>\n",
       "      <td>[delivery, pickup]</td>\n",
       "      <td>$$</td>\n",
       "      <td>{'address1': '674 Sgt Paul Huff Pkwy NW', 'add...</td>\n",
       "      <td>14237900650</td>\n",
       "      <td>(423) 790-0650</td>\n",
       "      <td>38425.803383</td>\n",
       "    </tr>\n",
       "    <tr>\n",
       "      <th>1</th>\n",
       "      <td>zXrbBeIy83GaG9envfIVUg</td>\n",
       "      <td>han-mi-chattanooga-2</td>\n",
       "      <td>Han-Mi</td>\n",
       "      <td>https://s3-media2.fl.yelpcdn.com/bphoto/QCgKvz...</td>\n",
       "      <td>False</td>\n",
       "      <td>https://www.yelp.com/biz/han-mi-chattanooga-2?...</td>\n",
       "      <td>129</td>\n",
       "      <td>[{'alias': 'korean', 'title': 'Korean'}, {'ali...</td>\n",
       "      <td>4.5</td>\n",
       "      <td>{'latitude': 35.020864, 'longitude': -85.320737}</td>\n",
       "      <td>[]</td>\n",
       "      <td>$$</td>\n",
       "      <td>{'address1': '3103 Broad St', 'address2': None...</td>\n",
       "      <td>14235417273</td>\n",
       "      <td>(423) 541-7273</td>\n",
       "      <td>10116.896164</td>\n",
       "    </tr>\n",
       "    <tr>\n",
       "      <th>2</th>\n",
       "      <td>LpqPw6eU66voDREOx61OXg</td>\n",
       "      <td>volcano-korean-bbq-chattanooga</td>\n",
       "      <td>Volcano Korean BBQ</td>\n",
       "      <td>https://s3-media3.fl.yelpcdn.com/bphoto/Rl8QsW...</td>\n",
       "      <td>False</td>\n",
       "      <td>https://www.yelp.com/biz/volcano-korean-bbq-ch...</td>\n",
       "      <td>49</td>\n",
       "      <td>[{'alias': 'bbq', 'title': 'Barbeque'}, {'alia...</td>\n",
       "      <td>4.0</td>\n",
       "      <td>{'latitude': 35.0312, 'longitude': -85.15562}</td>\n",
       "      <td>[delivery, pickup]</td>\n",
       "      <td>NaN</td>\n",
       "      <td>{'address1': '2011 Gunbarrel Rd', 'address2': ...</td>\n",
       "      <td>14232129968</td>\n",
       "      <td>(423) 212-9968</td>\n",
       "      <td>11934.090409</td>\n",
       "    </tr>\n",
       "    <tr>\n",
       "      <th>3</th>\n",
       "      <td>Pn4YyKqmWqYn4sLYre3gIA</td>\n",
       "      <td>super-pho-and-grill-chattanooga</td>\n",
       "      <td>Super Pho &amp; Grill</td>\n",
       "      <td>https://s3-media3.fl.yelpcdn.com/bphoto/hSahwJ...</td>\n",
       "      <td>False</td>\n",
       "      <td>https://www.yelp.com/biz/super-pho-and-grill-c...</td>\n",
       "      <td>47</td>\n",
       "      <td>[{'alias': 'vietnamese', 'title': 'Vietnamese'}]</td>\n",
       "      <td>4.5</td>\n",
       "      <td>{'latitude': 35.045631, 'longitude': -85.161837}</td>\n",
       "      <td>[delivery]</td>\n",
       "      <td>NaN</td>\n",
       "      <td>{'address1': '7003 Lee Hwy', 'address2': 'Ste ...</td>\n",
       "      <td>14238993236</td>\n",
       "      <td>(423) 899-3236</td>\n",
       "      <td>10542.414263</td>\n",
       "    </tr>\n",
       "    <tr>\n",
       "      <th>4</th>\n",
       "      <td>xJkuexCB2mHcoeEysXeqFw</td>\n",
       "      <td>thai-esan-chattanooga</td>\n",
       "      <td>Thai Esan</td>\n",
       "      <td>https://s3-media1.fl.yelpcdn.com/bphoto/BLm7e4...</td>\n",
       "      <td>False</td>\n",
       "      <td>https://www.yelp.com/biz/thai-esan-chattanooga...</td>\n",
       "      <td>262</td>\n",
       "      <td>[{'alias': 'thai', 'title': 'Thai'}, {'alias':...</td>\n",
       "      <td>4.5</td>\n",
       "      <td>{'latitude': 34.99573, 'longitude': -85.23878}</td>\n",
       "      <td>[delivery, pickup]</td>\n",
       "      <td>$$</td>\n",
       "      <td>{'address1': '4330 Ringgold Rd', 'address2': '...</td>\n",
       "      <td>14236688924</td>\n",
       "      <td>(423) 668-8924</td>\n",
       "      <td>11394.125403</td>\n",
       "    </tr>\n",
       "  </tbody>\n",
       "</table>\n",
       "</div>"
      ],
      "text/plain": [
       "                       id                            alias  \\\n",
       "0  NEiSS5cDAeRgHc7TS0pxCg             steam-boys-cleveland   \n",
       "1  zXrbBeIy83GaG9envfIVUg             han-mi-chattanooga-2   \n",
       "2  LpqPw6eU66voDREOx61OXg   volcano-korean-bbq-chattanooga   \n",
       "3  Pn4YyKqmWqYn4sLYre3gIA  super-pho-and-grill-chattanooga   \n",
       "4  xJkuexCB2mHcoeEysXeqFw            thai-esan-chattanooga   \n",
       "\n",
       "                 name                                          image_url  \\\n",
       "0          Steam Boys  https://s3-media3.fl.yelpcdn.com/bphoto/8Jm2hR...   \n",
       "1              Han-Mi  https://s3-media2.fl.yelpcdn.com/bphoto/QCgKvz...   \n",
       "2  Volcano Korean BBQ  https://s3-media3.fl.yelpcdn.com/bphoto/Rl8QsW...   \n",
       "3   Super Pho & Grill  https://s3-media3.fl.yelpcdn.com/bphoto/hSahwJ...   \n",
       "4           Thai Esan  https://s3-media1.fl.yelpcdn.com/bphoto/BLm7e4...   \n",
       "\n",
       "   is_closed                                                url  review_count  \\\n",
       "0      False  https://www.yelp.com/biz/steam-boys-cleveland?...            35   \n",
       "1      False  https://www.yelp.com/biz/han-mi-chattanooga-2?...           129   \n",
       "2      False  https://www.yelp.com/biz/volcano-korean-bbq-ch...            49   \n",
       "3      False  https://www.yelp.com/biz/super-pho-and-grill-c...            47   \n",
       "4      False  https://www.yelp.com/biz/thai-esan-chattanooga...           262   \n",
       "\n",
       "                                          categories  rating  \\\n",
       "0  [{'alias': 'dimsum', 'title': 'Dim Sum'}, {'al...     4.0   \n",
       "1  [{'alias': 'korean', 'title': 'Korean'}, {'ali...     4.5   \n",
       "2  [{'alias': 'bbq', 'title': 'Barbeque'}, {'alia...     4.0   \n",
       "3   [{'alias': 'vietnamese', 'title': 'Vietnamese'}]     4.5   \n",
       "4  [{'alias': 'thai', 'title': 'Thai'}, {'alias':...     4.5   \n",
       "\n",
       "                                         coordinates        transactions  \\\n",
       "0  {'latitude': 35.2100599, 'longitude': -84.8566...  [delivery, pickup]   \n",
       "1   {'latitude': 35.020864, 'longitude': -85.320737}                  []   \n",
       "2      {'latitude': 35.0312, 'longitude': -85.15562}  [delivery, pickup]   \n",
       "3   {'latitude': 35.045631, 'longitude': -85.161837}          [delivery]   \n",
       "4     {'latitude': 34.99573, 'longitude': -85.23878}  [delivery, pickup]   \n",
       "\n",
       "  price                                           location        phone  \\\n",
       "0    $$  {'address1': '674 Sgt Paul Huff Pkwy NW', 'add...  14237900650   \n",
       "1    $$  {'address1': '3103 Broad St', 'address2': None...  14235417273   \n",
       "2   NaN  {'address1': '2011 Gunbarrel Rd', 'address2': ...  14232129968   \n",
       "3   NaN  {'address1': '7003 Lee Hwy', 'address2': 'Ste ...  14238993236   \n",
       "4    $$  {'address1': '4330 Ringgold Rd', 'address2': '...  14236688924   \n",
       "\n",
       "    display_phone      distance  \n",
       "0  (423) 790-0650  38425.803383  \n",
       "1  (423) 541-7273  10116.896164  \n",
       "2  (423) 212-9968  11934.090409  \n",
       "3  (423) 899-3236  10542.414263  \n",
       "4  (423) 668-8924  11394.125403  "
      ]
     },
     "metadata": {},
     "output_type": "display_data"
    },
    {
     "data": {
      "text/html": [
       "<div>\n",
       "<style scoped>\n",
       "    .dataframe tbody tr th:only-of-type {\n",
       "        vertical-align: middle;\n",
       "    }\n",
       "\n",
       "    .dataframe tbody tr th {\n",
       "        vertical-align: top;\n",
       "    }\n",
       "\n",
       "    .dataframe thead th {\n",
       "        text-align: right;\n",
       "    }\n",
       "</style>\n",
       "<table border=\"1\" class=\"dataframe\">\n",
       "  <thead>\n",
       "    <tr style=\"text-align: right;\">\n",
       "      <th></th>\n",
       "      <th>id</th>\n",
       "      <th>alias</th>\n",
       "      <th>name</th>\n",
       "      <th>image_url</th>\n",
       "      <th>is_closed</th>\n",
       "      <th>url</th>\n",
       "      <th>review_count</th>\n",
       "      <th>categories</th>\n",
       "      <th>rating</th>\n",
       "      <th>coordinates</th>\n",
       "      <th>transactions</th>\n",
       "      <th>price</th>\n",
       "      <th>location</th>\n",
       "      <th>phone</th>\n",
       "      <th>display_phone</th>\n",
       "      <th>distance</th>\n",
       "    </tr>\n",
       "  </thead>\n",
       "  <tbody>\n",
       "    <tr>\n",
       "      <th>15</th>\n",
       "      <td>xegRlihfq9GTMwiM-Ct95w</td>\n",
       "      <td>rain-thai-bistro-chattanooga</td>\n",
       "      <td>Rain Thai Bistro</td>\n",
       "      <td>https://s3-media2.fl.yelpcdn.com/bphoto/F2E58A...</td>\n",
       "      <td>False</td>\n",
       "      <td>https://www.yelp.com/biz/rain-thai-bistro-chat...</td>\n",
       "      <td>356</td>\n",
       "      <td>[{'alias': 'thai', 'title': 'Thai'}, {'alias':...</td>\n",
       "      <td>3.5</td>\n",
       "      <td>{'latitude': 35.044631472223365, 'longitude': ...</td>\n",
       "      <td>[delivery, pickup]</td>\n",
       "      <td>$$</td>\n",
       "      <td>{'address1': '6933 Lee Hwy', 'address2': 'Ste ...</td>\n",
       "      <td>14233865586</td>\n",
       "      <td>(423) 386-5586</td>\n",
       "      <td>10272.400811</td>\n",
       "    </tr>\n",
       "    <tr>\n",
       "      <th>16</th>\n",
       "      <td>HcM5xrWhdsYmkkaighVEIg</td>\n",
       "      <td>tao-asian-cuisine-ringgold</td>\n",
       "      <td>Tao Asian Cuisine</td>\n",
       "      <td>https://s3-media2.fl.yelpcdn.com/bphoto/EzAaJR...</td>\n",
       "      <td>False</td>\n",
       "      <td>https://www.yelp.com/biz/tao-asian-cuisine-rin...</td>\n",
       "      <td>23</td>\n",
       "      <td>[{'alias': 'sushi', 'title': 'Sushi Bars'}, {'...</td>\n",
       "      <td>4.5</td>\n",
       "      <td>{'latitude': 34.91195833, 'longitude': -85.130...</td>\n",
       "      <td>[]</td>\n",
       "      <td>$$</td>\n",
       "      <td>{'address1': '114 Remco Shops Ln', 'address2':...</td>\n",
       "      <td>17069521818</td>\n",
       "      <td>(706) 952-1818</td>\n",
       "      <td>23662.098314</td>\n",
       "    </tr>\n",
       "    <tr>\n",
       "      <th>17</th>\n",
       "      <td>le6msBiVy_C_FlWL_hWycA</td>\n",
       "      <td>chopstix-chattanooga-3</td>\n",
       "      <td>Chopstix</td>\n",
       "      <td>https://s3-media1.fl.yelpcdn.com/bphoto/we3au2...</td>\n",
       "      <td>False</td>\n",
       "      <td>https://www.yelp.com/biz/chopstix-chattanooga-...</td>\n",
       "      <td>214</td>\n",
       "      <td>[{'alias': 'vietnamese', 'title': 'Vietnamese'...</td>\n",
       "      <td>4.0</td>\n",
       "      <td>{'latitude': 35.0432567762187, 'longitude': -8...</td>\n",
       "      <td>[delivery]</td>\n",
       "      <td>$$</td>\n",
       "      <td>{'address1': '6903 Lee Hwy', 'address2': '', '...</td>\n",
       "      <td>14233050537</td>\n",
       "      <td>(423) 305-0537</td>\n",
       "      <td>10394.821497</td>\n",
       "    </tr>\n",
       "    <tr>\n",
       "      <th>18</th>\n",
       "      <td>7_aDCNR6edRhS7gvmlk2jQ</td>\n",
       "      <td>totto-sushi-and-grill-chattanooga</td>\n",
       "      <td>Totto Sushi &amp; Grill</td>\n",
       "      <td>https://s3-media2.fl.yelpcdn.com/bphoto/7CG45M...</td>\n",
       "      <td>False</td>\n",
       "      <td>https://www.yelp.com/biz/totto-sushi-and-grill...</td>\n",
       "      <td>233</td>\n",
       "      <td>[{'alias': 'sushi', 'title': 'Sushi Bars'}, {'...</td>\n",
       "      <td>4.0</td>\n",
       "      <td>{'latitude': 35.06183, 'longitude': -85.30565}</td>\n",
       "      <td>[delivery]</td>\n",
       "      <td>$$</td>\n",
       "      <td>{'address1': '330 Frazier Ave', 'address2': 'S...</td>\n",
       "      <td>14235088898</td>\n",
       "      <td>(423) 508-8898</td>\n",
       "      <td>5722.661663</td>\n",
       "    </tr>\n",
       "    <tr>\n",
       "      <th>19</th>\n",
       "      <td>l0r5ohrWFRpBpvZcBgwN5A</td>\n",
       "      <td>taichi-bubble-tea-downtown-chattanooga</td>\n",
       "      <td>Taichi Bubble Tea Downtown</td>\n",
       "      <td>https://s3-media4.fl.yelpcdn.com/bphoto/jyh3Pr...</td>\n",
       "      <td>False</td>\n",
       "      <td>https://www.yelp.com/biz/taichi-bubble-tea-dow...</td>\n",
       "      <td>141</td>\n",
       "      <td>[{'alias': 'bubbletea', 'title': 'Bubble Tea'}...</td>\n",
       "      <td>4.0</td>\n",
       "      <td>{'latitude': 35.05147, 'longitude': -85.31089}</td>\n",
       "      <td>[delivery, pickup]</td>\n",
       "      <td>$$</td>\n",
       "      <td>{'address1': '411 Broad St', 'address2': 'Ste ...</td>\n",
       "      <td>14235415100</td>\n",
       "      <td>(423) 541-5100</td>\n",
       "      <td>6873.432708</td>\n",
       "    </tr>\n",
       "  </tbody>\n",
       "</table>\n",
       "</div>"
      ],
      "text/plain": [
       "                        id                                   alias  \\\n",
       "15  xegRlihfq9GTMwiM-Ct95w            rain-thai-bistro-chattanooga   \n",
       "16  HcM5xrWhdsYmkkaighVEIg              tao-asian-cuisine-ringgold   \n",
       "17  le6msBiVy_C_FlWL_hWycA                  chopstix-chattanooga-3   \n",
       "18  7_aDCNR6edRhS7gvmlk2jQ       totto-sushi-and-grill-chattanooga   \n",
       "19  l0r5ohrWFRpBpvZcBgwN5A  taichi-bubble-tea-downtown-chattanooga   \n",
       "\n",
       "                          name  \\\n",
       "15            Rain Thai Bistro   \n",
       "16           Tao Asian Cuisine   \n",
       "17                    Chopstix   \n",
       "18         Totto Sushi & Grill   \n",
       "19  Taichi Bubble Tea Downtown   \n",
       "\n",
       "                                            image_url  is_closed  \\\n",
       "15  https://s3-media2.fl.yelpcdn.com/bphoto/F2E58A...      False   \n",
       "16  https://s3-media2.fl.yelpcdn.com/bphoto/EzAaJR...      False   \n",
       "17  https://s3-media1.fl.yelpcdn.com/bphoto/we3au2...      False   \n",
       "18  https://s3-media2.fl.yelpcdn.com/bphoto/7CG45M...      False   \n",
       "19  https://s3-media4.fl.yelpcdn.com/bphoto/jyh3Pr...      False   \n",
       "\n",
       "                                                  url  review_count  \\\n",
       "15  https://www.yelp.com/biz/rain-thai-bistro-chat...           356   \n",
       "16  https://www.yelp.com/biz/tao-asian-cuisine-rin...            23   \n",
       "17  https://www.yelp.com/biz/chopstix-chattanooga-...           214   \n",
       "18  https://www.yelp.com/biz/totto-sushi-and-grill...           233   \n",
       "19  https://www.yelp.com/biz/taichi-bubble-tea-dow...           141   \n",
       "\n",
       "                                           categories  rating  \\\n",
       "15  [{'alias': 'thai', 'title': 'Thai'}, {'alias':...     3.5   \n",
       "16  [{'alias': 'sushi', 'title': 'Sushi Bars'}, {'...     4.5   \n",
       "17  [{'alias': 'vietnamese', 'title': 'Vietnamese'...     4.0   \n",
       "18  [{'alias': 'sushi', 'title': 'Sushi Bars'}, {'...     4.0   \n",
       "19  [{'alias': 'bubbletea', 'title': 'Bubble Tea'}...     4.0   \n",
       "\n",
       "                                          coordinates        transactions  \\\n",
       "15  {'latitude': 35.044631472223365, 'longitude': ...  [delivery, pickup]   \n",
       "16  {'latitude': 34.91195833, 'longitude': -85.130...                  []   \n",
       "17  {'latitude': 35.0432567762187, 'longitude': -8...          [delivery]   \n",
       "18     {'latitude': 35.06183, 'longitude': -85.30565}          [delivery]   \n",
       "19     {'latitude': 35.05147, 'longitude': -85.31089}  [delivery, pickup]   \n",
       "\n",
       "   price                                           location        phone  \\\n",
       "15    $$  {'address1': '6933 Lee Hwy', 'address2': 'Ste ...  14233865586   \n",
       "16    $$  {'address1': '114 Remco Shops Ln', 'address2':...  17069521818   \n",
       "17    $$  {'address1': '6903 Lee Hwy', 'address2': '', '...  14233050537   \n",
       "18    $$  {'address1': '330 Frazier Ave', 'address2': 'S...  14235088898   \n",
       "19    $$  {'address1': '411 Broad St', 'address2': 'Ste ...  14235415100   \n",
       "\n",
       "     display_phone      distance  \n",
       "15  (423) 386-5586  10272.400811  \n",
       "16  (706) 952-1818  23662.098314  \n",
       "17  (423) 305-0537  10394.821497  \n",
       "18  (423) 508-8898   5722.661663  \n",
       "19  (423) 541-5100   6873.432708  "
      ]
     },
     "metadata": {},
     "output_type": "display_data"
    }
   ],
   "source": [
    "# Load final results\n",
    "final_df = pd.read_json(JSON_FILE)\n",
    "display(final_df.head(), final_df.tail())"
   ]
  },
  {
   "cell_type": "code",
   "execution_count": 82,
   "id": "a957d89b",
   "metadata": {},
   "outputs": [
    {
     "data": {
      "text/plain": [
       "0"
      ]
     },
     "execution_count": 82,
     "metadata": {},
     "output_type": "execute_result"
    }
   ],
   "source": [
    "# Check for duplicate results\n",
    "final_df.duplicated(subset= 'id').sum()"
   ]
  },
  {
   "cell_type": "code",
   "execution_count": 83,
   "id": "1496554a",
   "metadata": {},
   "outputs": [
    {
     "data": {
      "text/plain": [
       "0"
      ]
     },
     "execution_count": 83,
     "metadata": {},
     "output_type": "execute_result"
    }
   ],
   "source": [
    "# Drop duplicate ids and confirm there are no more duplicates\n",
    "fina_df = final_df.drop_duplicates(subset= 'id')\n",
    "fina_df.duplicated(subset= 'id').sum()"
   ]
  },
  {
   "cell_type": "code",
   "execution_count": 84,
   "id": "76123051",
   "metadata": {},
   "outputs": [],
   "source": [
    "# Save the final results to a compressed csv\n",
    "final_df.to_csv('Data/final_results_Chattanooga_asian.csv.gz',\n",
    "compression =\"gzip\", index = False)"
   ]
  }
 ],
 "metadata": {
  "kernelspec": {
   "display_name": "Python (dojo-env)",
   "language": "python",
   "name": "dojo-env"
  },
  "language_info": {
   "codemirror_mode": {
    "name": "ipython",
    "version": 3
   },
   "file_extension": ".py",
   "mimetype": "text/x-python",
   "name": "python",
   "nbconvert_exporter": "python",
   "pygments_lexer": "ipython3",
   "version": "3.9.15"
  },
  "toc": {
   "base_numbering": 1,
   "nav_menu": {},
   "number_sections": false,
   "sideBar": true,
   "skip_h1_title": false,
   "title_cell": "Table of Contents",
   "title_sidebar": "Contents",
   "toc_cell": false,
   "toc_position": {},
   "toc_section_display": true,
   "toc_window_display": false
  }
 },
 "nbformat": 4,
 "nbformat_minor": 5
}
