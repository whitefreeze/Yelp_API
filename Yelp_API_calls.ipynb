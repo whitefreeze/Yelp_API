{
 "cells": [
  {
   "cell_type": "code",
   "execution_count": 77,
   "id": "1b09b251",
   "metadata": {},
   "outputs": [],
   "source": [
    "# Standard Imports\n",
    "import numpy as np\n",
    "import pandas as pd\n",
    "import matplotlib.pyplot as plt\n",
    "import seaborn as sns\n",
    "\n",
    "# Additional Imports\n",
    "import os, json, math, time\n",
    "from yelpapi import YelpAPI\n",
    "from tqdm.notebook import tqdm_notebook"
   ]
  },
  {
   "cell_type": "code",
   "execution_count": 78,
   "id": "dcf0f748",
   "metadata": {},
   "outputs": [],
   "source": [
    "## install tqdm if not already installed\n",
    "# !pip install tqdm"
   ]
  },
  {
   "cell_type": "code",
   "execution_count": 79,
   "id": "c90d3957",
   "metadata": {},
   "outputs": [
    {
     "data": {
      "text/plain": [
       "dict_keys(['client-id', 'api-key'])"
      ]
     },
     "execution_count": 79,
     "metadata": {},
     "output_type": "execute_result"
    }
   ],
   "source": [
    "# Load API credentials\n",
    "with open('/Users/whitefreeze/.secret/yelp_api.json') as f:\n",
    "    login = json.load(f)\n",
    "login.keys()"
   ]
  },
  {
   "cell_type": "code",
   "execution_count": 80,
   "id": "32d80fa0",
   "metadata": {},
   "outputs": [
    {
     "data": {
      "text/plain": [
       "<yelpapi.yelpapi.YelpAPI at 0x11dd79e20>"
      ]
     },
     "execution_count": 80,
     "metadata": {},
     "output_type": "execute_result"
    }
   ],
   "source": [
    "# Instantiate YelpAPI variable\n",
    "yelp_api = YelpAPI(login['api-key'], timeout_s=5.0)\n",
    "yelp_api"
   ]
  },
  {
   "cell_type": "code",
   "execution_count": 81,
   "id": "ca3b1dc4",
   "metadata": {
    "scrolled": true
   },
   "outputs": [
    {
     "name": "stdout",
     "output_type": "stream",
     "text": [
      "Help on method search_query in module yelpapi.yelpapi:\n",
      "\n",
      "search_query(**kwargs) method of yelpapi.yelpapi.YelpAPI instance\n",
      "    Query the Yelp Search API.\n",
      "    \n",
      "    documentation: https://www.yelp.com/developers/documentation/v3/business_search\n",
      "    \n",
      "    required parameters:\n",
      "        * one of either:\n",
      "            * location - text specifying a location to search for\n",
      "            * latitude and longitude\n",
      "\n"
     ]
    }
   ],
   "source": [
    "# For API help resources\n",
    "help(yelp_api.search_query)"
   ]
  },
  {
   "cell_type": "code",
   "execution_count": 82,
   "id": "a5c5e2b2",
   "metadata": {},
   "outputs": [],
   "source": [
    "# set API call parameters\n",
    "LOCATION = \"Chattanooga, TN\"\n",
    "TERM = \"asian\""
   ]
  },
  {
   "cell_type": "code",
   "execution_count": 83,
   "id": "f18d5da6",
   "metadata": {},
   "outputs": [
    {
     "data": {
      "text/plain": [
       "'Data/results_in_progress_Chattanooga_asian.json'"
      ]
     },
     "execution_count": 83,
     "metadata": {},
     "output_type": "execute_result"
    }
   ],
   "source": [
    "# Specify JSON_FILE filename (including folder)\n",
    "# include search terms in the filename\n",
    "JSON_FILE = f\"Data/results_in_progress_Chattanooga_asian.json\"\n",
    "JSON_FILE"
   ]
  },
  {
   "cell_type": "code",
   "execution_count": 84,
   "id": "82023739",
   "metadata": {},
   "outputs": [
    {
     "name": "stdout",
     "output_type": "stream",
     "text": [
      "Keys from results: dict_keys(['businesses', 'total', 'region'])\n"
     ]
    }
   ],
   "source": [
    "# Find key returned from API call\n",
    "# use yelp_api variable's search_query method to perform API call\n",
    "results = yelp_api.search_query(location=LOCATION, \n",
    "                                term=TERM)\n",
    "print(f'Keys from results: {results.keys()}')"
   ]
  },
  {
   "cell_type": "code",
   "execution_count": 85,
   "id": "0fc3a658",
   "metadata": {},
   "outputs": [],
   "source": [
    "# Function to write new file or overwrite previous file\n",
    "def create_json_file(JSON_FILE, delete_if_exists = False): # Change to TRUE to overwrite existsing\n",
    "    \n",
    "    # Check if JSON_FILE exists\n",
    "    file_exists = os.path.isfile(JSON_FILE)\n",
    "    \n",
    "    # If file DOES exist:\n",
    "    if file_exists == True:\n",
    "        \n",
    "        # Check if user wants to delete file, if it exists\n",
    "        if delete_if_exists == True:\n",
    "        \n",
    "            print(f\"[!] {JSON_FILE} already exists. Deleting previous file...\")\n",
    "            \n",
    "            # Delete file and confirm it no longer exists.\n",
    "            os.remove(JSON_FILE)\n",
    "            \n",
    "            # Recursive call to function after old file deleted\n",
    "            create_json_file(JSON_FILE, delete_if_exists = False)\n",
    "        \n",
    "        else:\n",
    "            print(f\"[i] {JSON_FILE} already exists.\")\n",
    "            \n",
    "    # If file does NOT exist:\n",
    "    else:\n",
    "        \n",
    "        # Inform user and save empty list\n",
    "        print(f\"[i] {JSON_FILE} not found. Saving empty list to new file.\")\n",
    "        \n",
    "        # Create any needed folders\n",
    "        # Get folder name only\n",
    "        folder = os.path.dirname(JSON_FILE)\n",
    "        \n",
    "        # If JSON_FILE is included in a folder\n",
    "        if len(folder) > 0:\n",
    "            \n",
    "            # Create the folder\n",
    "            os.makedirs(folder, exist_ok = True)\n",
    "            \n",
    "        # Save empty list to start the json file\n",
    "        with open(JSON_FILE, 'w') as f:\n",
    "            json.dump([], f)"
   ]
  },
  {
   "cell_type": "code",
   "execution_count": 86,
   "id": "cd58a625",
   "metadata": {},
   "outputs": [],
   "source": [
    "# Formula to write JSON \n",
    "def write_json(new_data, filename):\n",
    "    \"\"\"Appends a list of records (new_data) to a json file (filename).\n",
    "    Adapted from: https://www.geeksforgeeks.org/append-to-json-file-using-python/\"\"\"\n",
    "    \n",
    "    with open(filename, 'r+') as file:\n",
    "        \n",
    "        # First load existing data into a dict\n",
    "        file_data = json.load(file)\n",
    "        \n",
    "        # Choose extend  (append formats JSON hierachy incorectly)\n",
    "        file_data.extend(new_data['businesses'])\n",
    "            \n",
    "        # Sets file's current position at offset.\n",
    "        file.seek(0)\n",
    "        \n",
    "        # Convert back to json\n",
    "        json.dump(file_data, file)\n",
    "        \n",
    "        #previous_results.extend(results['businesses'])"
   ]
  },
  {
   "cell_type": "code",
   "execution_count": 87,
   "id": "a1bacb63",
   "metadata": {
    "scrolled": false
   },
   "outputs": [
    {
     "name": "stdout",
     "output_type": "stream",
     "text": [
      "[!] Data/results_in_progress_Chattanooga_asian.json already exists. Deleting previous file...\n",
      "[i] Data/results_in_progress_Chattanooga_asian.json not found. Saving empty list to new file.\n"
     ]
    }
   ],
   "source": [
    "create_json_file(JSON_FILE, delete_if_exists = True)  ## Change back to False"
   ]
  },
  {
   "cell_type": "code",
   "execution_count": 88,
   "id": "0131dd06",
   "metadata": {},
   "outputs": [
    {
     "data": {
      "text/plain": [
       "163"
      ]
     },
     "execution_count": 88,
     "metadata": {},
     "output_type": "execute_result"
    }
   ],
   "source": [
    "total_results"
   ]
  },
  {
   "cell_type": "code",
   "execution_count": 89,
   "id": "3b013620",
   "metadata": {},
   "outputs": [
    {
     "name": "stdout",
     "output_type": "stream",
     "text": [
      " - 0 previous results found.\n",
      "Total results for query: 163\n",
      "Results per page: 20\n",
      "Total number of result pages: 9\n"
     ]
    },
    {
     "data": {
      "application/vnd.jupyter.widget-view+json": {
       "model_id": "8d3c5ac9cf944e34a6c9d0489cd0473f",
       "version_major": 2,
       "version_minor": 0
      },
      "text/plain": [
       "  0%|          | 0/9 [00:00<?, ?it/s]"
      ]
     },
     "metadata": {},
     "output_type": "display_data"
    },
    {
     "name": "stdout",
     "output_type": "stream",
     "text": [
      "0\n",
      "20\n",
      "40\n",
      "60\n",
      "80\n",
      "100\n",
      "120\n",
      "140\n",
      "150\n"
     ]
    }
   ],
   "source": [
    "# Loop through each page of results from Yelp_API. Append results to running file\n",
    "\n",
    "# First, verify file empty/load previous results. \n",
    "with open(JSON_FILE, 'r') as f:\n",
    "    previous_results = json.load(f)\n",
    "    \n",
    "# Display number of previous results\n",
    "n_results = len(previous_results)\n",
    "print(f' - {n_results} previous results found.')\n",
    "\n",
    "# Append new results and save to file\n",
    "previous_results.extend(results['businesses'])\n",
    "\n",
    "# How many results in total?\n",
    "total_results = results['total']\n",
    "print(f'Total results for query: {total_results}')\n",
    "\n",
    "# How many did we get the details for?\n",
    "results_per_page = len(results['businesses'])\n",
    "print(f'Results per page: {results_per_page}')\n",
    "\n",
    "# Use math.ceil to round up for the total number of pages of results.\n",
    "n_pages = math.ceil((total_results - n_results)/ results_per_page)\n",
    "print(f'Total number of result pages: {n_pages}')\n",
    "\n",
    "# LOOP\n",
    "# Loop through each page of results from Yelp_API. Append results to running file\n",
    "for i in tqdm_notebook( range( 1, n_pages+1)):\n",
    "\n",
    "    \n",
    "    # Read in results in progress file and check length\n",
    "    with open(JSON_FILE, 'r') as f:\n",
    "        previous_results = json.load(f)\n",
    "\n",
    "    # Save number of results to use as the offset\n",
    "    n_results = len(previous_results)\n",
    "\n",
    "    print(n_results)\n",
    "\n",
    "    # To not exceed Yelp's free tier limits\n",
    "    if(n_results + results_per_page) > 1000:\n",
    "        print('Exceeded 1000 api calls. Stopping loop.')\n",
    "        break\n",
    "\n",
    "    # Use n_results as the offset\n",
    "    results = yelp_api.search_query(location = LOCATION,\n",
    "                                   term = TERM,\n",
    "                                   offset = n_results)\n",
    "\n",
    "    # Append/extend results to existing file using a pre-made function\n",
    "    write_json(results, JSON_FILE)\n",
    "\n",
    "    # add 200 ms pause between api requests\n",
    "    time.sleep(.2)\n",
    "    \n",
    "\n",
    "# Display previous_results\n",
    "with open(JSON_FILE, 'w') as f:\n",
    "    json.dump(previous_results, f)"
   ]
  },
  {
   "cell_type": "code",
   "execution_count": 96,
   "id": "e785fd7d",
   "metadata": {},
   "outputs": [
    {
     "data": {
      "text/plain": [
       "150"
      ]
     },
     "execution_count": 96,
     "metadata": {},
     "output_type": "execute_result"
    }
   ],
   "source": [
    "n_results"
   ]
  },
  {
   "cell_type": "code",
   "execution_count": 90,
   "id": "c8c4d0ff",
   "metadata": {},
   "outputs": [
    {
     "data": {
      "text/html": [
       "<div>\n",
       "<style scoped>\n",
       "    .dataframe tbody tr th:only-of-type {\n",
       "        vertical-align: middle;\n",
       "    }\n",
       "\n",
       "    .dataframe tbody tr th {\n",
       "        vertical-align: top;\n",
       "    }\n",
       "\n",
       "    .dataframe thead th {\n",
       "        text-align: right;\n",
       "    }\n",
       "</style>\n",
       "<table border=\"1\" class=\"dataframe\">\n",
       "  <thead>\n",
       "    <tr style=\"text-align: right;\">\n",
       "      <th></th>\n",
       "      <th>id</th>\n",
       "      <th>alias</th>\n",
       "      <th>name</th>\n",
       "      <th>image_url</th>\n",
       "      <th>is_closed</th>\n",
       "      <th>url</th>\n",
       "      <th>review_count</th>\n",
       "      <th>categories</th>\n",
       "      <th>rating</th>\n",
       "      <th>coordinates</th>\n",
       "      <th>transactions</th>\n",
       "      <th>price</th>\n",
       "      <th>location</th>\n",
       "      <th>phone</th>\n",
       "      <th>display_phone</th>\n",
       "      <th>distance</th>\n",
       "    </tr>\n",
       "  </thead>\n",
       "  <tbody>\n",
       "    <tr>\n",
       "      <th>0</th>\n",
       "      <td>zXrbBeIy83GaG9envfIVUg</td>\n",
       "      <td>han-mi-chattanooga-2</td>\n",
       "      <td>Han-Mi</td>\n",
       "      <td>https://s3-media2.fl.yelpcdn.com/bphoto/QCgKvz...</td>\n",
       "      <td>False</td>\n",
       "      <td>https://www.yelp.com/biz/han-mi-chattanooga-2?...</td>\n",
       "      <td>129</td>\n",
       "      <td>[{'alias': 'korean', 'title': 'Korean'}, {'ali...</td>\n",
       "      <td>4.5</td>\n",
       "      <td>{'latitude': 35.020864, 'longitude': -85.320737}</td>\n",
       "      <td>[]</td>\n",
       "      <td>$$</td>\n",
       "      <td>{'address1': '3103 Broad St', 'address2': None...</td>\n",
       "      <td>+14235417273</td>\n",
       "      <td>(423) 541-7273</td>\n",
       "      <td>10116.896164</td>\n",
       "    </tr>\n",
       "    <tr>\n",
       "      <th>1</th>\n",
       "      <td>NEiSS5cDAeRgHc7TS0pxCg</td>\n",
       "      <td>steam-boys-cleveland</td>\n",
       "      <td>Steam Boys</td>\n",
       "      <td>https://s3-media3.fl.yelpcdn.com/bphoto/8Jm2hR...</td>\n",
       "      <td>False</td>\n",
       "      <td>https://www.yelp.com/biz/steam-boys-cleveland?...</td>\n",
       "      <td>34</td>\n",
       "      <td>[{'alias': 'dimsum', 'title': 'Dim Sum'}, {'al...</td>\n",
       "      <td>4.0</td>\n",
       "      <td>{'latitude': 35.2100599, 'longitude': -84.8566...</td>\n",
       "      <td>[pickup, delivery]</td>\n",
       "      <td>$$</td>\n",
       "      <td>{'address1': '674 Sgt Paul Huff Pkwy NW', 'add...</td>\n",
       "      <td>+14237900650</td>\n",
       "      <td>(423) 790-0650</td>\n",
       "      <td>38425.803383</td>\n",
       "    </tr>\n",
       "    <tr>\n",
       "      <th>2</th>\n",
       "      <td>xJkuexCB2mHcoeEysXeqFw</td>\n",
       "      <td>thai-esan-chattanooga</td>\n",
       "      <td>Thai Esan</td>\n",
       "      <td>https://s3-media3.fl.yelpcdn.com/bphoto/tm_6Y-...</td>\n",
       "      <td>False</td>\n",
       "      <td>https://www.yelp.com/biz/thai-esan-chattanooga...</td>\n",
       "      <td>262</td>\n",
       "      <td>[{'alias': 'thai', 'title': 'Thai'}, {'alias':...</td>\n",
       "      <td>4.5</td>\n",
       "      <td>{'latitude': 34.99573, 'longitude': -85.23878}</td>\n",
       "      <td>[pickup, delivery]</td>\n",
       "      <td>$$</td>\n",
       "      <td>{'address1': '4330 Ringgold Rd', 'address2': '...</td>\n",
       "      <td>+14236688924</td>\n",
       "      <td>(423) 668-8924</td>\n",
       "      <td>11394.125403</td>\n",
       "    </tr>\n",
       "    <tr>\n",
       "      <th>3</th>\n",
       "      <td>Pn4YyKqmWqYn4sLYre3gIA</td>\n",
       "      <td>super-pho-and-grill-chattanooga</td>\n",
       "      <td>Super Pho &amp; Grill</td>\n",
       "      <td>https://s3-media3.fl.yelpcdn.com/bphoto/hSahwJ...</td>\n",
       "      <td>False</td>\n",
       "      <td>https://www.yelp.com/biz/super-pho-and-grill-c...</td>\n",
       "      <td>49</td>\n",
       "      <td>[{'alias': 'vietnamese', 'title': 'Vietnamese'}]</td>\n",
       "      <td>4.5</td>\n",
       "      <td>{'latitude': 35.045631, 'longitude': -85.161837}</td>\n",
       "      <td>[delivery]</td>\n",
       "      <td>NaN</td>\n",
       "      <td>{'address1': '7003 Lee Hwy', 'address2': 'Ste ...</td>\n",
       "      <td>+14238993236</td>\n",
       "      <td>(423) 899-3236</td>\n",
       "      <td>10542.414263</td>\n",
       "    </tr>\n",
       "    <tr>\n",
       "      <th>4</th>\n",
       "      <td>LpqPw6eU66voDREOx61OXg</td>\n",
       "      <td>volcano-korean-bbq-chattanooga</td>\n",
       "      <td>Volcano Korean BBQ</td>\n",
       "      <td>https://s3-media3.fl.yelpcdn.com/bphoto/Rl8QsW...</td>\n",
       "      <td>False</td>\n",
       "      <td>https://www.yelp.com/biz/volcano-korean-bbq-ch...</td>\n",
       "      <td>48</td>\n",
       "      <td>[{'alias': 'bbq', 'title': 'Barbeque'}, {'alia...</td>\n",
       "      <td>4.0</td>\n",
       "      <td>{'latitude': 35.0312, 'longitude': -85.15562}</td>\n",
       "      <td>[pickup, delivery]</td>\n",
       "      <td>NaN</td>\n",
       "      <td>{'address1': '2011 Gunbarrel Rd', 'address2': ...</td>\n",
       "      <td>+14232129968</td>\n",
       "      <td>(423) 212-9968</td>\n",
       "      <td>11934.090409</td>\n",
       "    </tr>\n",
       "  </tbody>\n",
       "</table>\n",
       "</div>"
      ],
      "text/plain": [
       "                       id                            alias  \\\n",
       "0  zXrbBeIy83GaG9envfIVUg             han-mi-chattanooga-2   \n",
       "1  NEiSS5cDAeRgHc7TS0pxCg             steam-boys-cleveland   \n",
       "2  xJkuexCB2mHcoeEysXeqFw            thai-esan-chattanooga   \n",
       "3  Pn4YyKqmWqYn4sLYre3gIA  super-pho-and-grill-chattanooga   \n",
       "4  LpqPw6eU66voDREOx61OXg   volcano-korean-bbq-chattanooga   \n",
       "\n",
       "                 name                                          image_url  \\\n",
       "0              Han-Mi  https://s3-media2.fl.yelpcdn.com/bphoto/QCgKvz...   \n",
       "1          Steam Boys  https://s3-media3.fl.yelpcdn.com/bphoto/8Jm2hR...   \n",
       "2           Thai Esan  https://s3-media3.fl.yelpcdn.com/bphoto/tm_6Y-...   \n",
       "3   Super Pho & Grill  https://s3-media3.fl.yelpcdn.com/bphoto/hSahwJ...   \n",
       "4  Volcano Korean BBQ  https://s3-media3.fl.yelpcdn.com/bphoto/Rl8QsW...   \n",
       "\n",
       "   is_closed                                                url  review_count  \\\n",
       "0      False  https://www.yelp.com/biz/han-mi-chattanooga-2?...           129   \n",
       "1      False  https://www.yelp.com/biz/steam-boys-cleveland?...            34   \n",
       "2      False  https://www.yelp.com/biz/thai-esan-chattanooga...           262   \n",
       "3      False  https://www.yelp.com/biz/super-pho-and-grill-c...            49   \n",
       "4      False  https://www.yelp.com/biz/volcano-korean-bbq-ch...            48   \n",
       "\n",
       "                                          categories  rating  \\\n",
       "0  [{'alias': 'korean', 'title': 'Korean'}, {'ali...     4.5   \n",
       "1  [{'alias': 'dimsum', 'title': 'Dim Sum'}, {'al...     4.0   \n",
       "2  [{'alias': 'thai', 'title': 'Thai'}, {'alias':...     4.5   \n",
       "3   [{'alias': 'vietnamese', 'title': 'Vietnamese'}]     4.5   \n",
       "4  [{'alias': 'bbq', 'title': 'Barbeque'}, {'alia...     4.0   \n",
       "\n",
       "                                         coordinates        transactions  \\\n",
       "0   {'latitude': 35.020864, 'longitude': -85.320737}                  []   \n",
       "1  {'latitude': 35.2100599, 'longitude': -84.8566...  [pickup, delivery]   \n",
       "2     {'latitude': 34.99573, 'longitude': -85.23878}  [pickup, delivery]   \n",
       "3   {'latitude': 35.045631, 'longitude': -85.161837}          [delivery]   \n",
       "4      {'latitude': 35.0312, 'longitude': -85.15562}  [pickup, delivery]   \n",
       "\n",
       "  price                                           location         phone  \\\n",
       "0    $$  {'address1': '3103 Broad St', 'address2': None...  +14235417273   \n",
       "1    $$  {'address1': '674 Sgt Paul Huff Pkwy NW', 'add...  +14237900650   \n",
       "2    $$  {'address1': '4330 Ringgold Rd', 'address2': '...  +14236688924   \n",
       "3   NaN  {'address1': '7003 Lee Hwy', 'address2': 'Ste ...  +14238993236   \n",
       "4   NaN  {'address1': '2011 Gunbarrel Rd', 'address2': ...  +14232129968   \n",
       "\n",
       "    display_phone      distance  \n",
       "0  (423) 541-7273  10116.896164  \n",
       "1  (423) 790-0650  38425.803383  \n",
       "2  (423) 668-8924  11394.125403  \n",
       "3  (423) 899-3236  10542.414263  \n",
       "4  (423) 212-9968  11934.090409  "
      ]
     },
     "metadata": {},
     "output_type": "display_data"
    },
    {
     "data": {
      "text/html": [
       "<div>\n",
       "<style scoped>\n",
       "    .dataframe tbody tr th:only-of-type {\n",
       "        vertical-align: middle;\n",
       "    }\n",
       "\n",
       "    .dataframe tbody tr th {\n",
       "        vertical-align: top;\n",
       "    }\n",
       "\n",
       "    .dataframe thead th {\n",
       "        text-align: right;\n",
       "    }\n",
       "</style>\n",
       "<table border=\"1\" class=\"dataframe\">\n",
       "  <thead>\n",
       "    <tr style=\"text-align: right;\">\n",
       "      <th></th>\n",
       "      <th>id</th>\n",
       "      <th>alias</th>\n",
       "      <th>name</th>\n",
       "      <th>image_url</th>\n",
       "      <th>is_closed</th>\n",
       "      <th>url</th>\n",
       "      <th>review_count</th>\n",
       "      <th>categories</th>\n",
       "      <th>rating</th>\n",
       "      <th>coordinates</th>\n",
       "      <th>transactions</th>\n",
       "      <th>price</th>\n",
       "      <th>location</th>\n",
       "      <th>phone</th>\n",
       "      <th>display_phone</th>\n",
       "      <th>distance</th>\n",
       "    </tr>\n",
       "  </thead>\n",
       "  <tbody>\n",
       "    <tr>\n",
       "      <th>145</th>\n",
       "      <td>EueZwALRh2NmFxfAXsjSEw</td>\n",
       "      <td>ingles-super-market-jasper</td>\n",
       "      <td>Ingles Super Market</td>\n",
       "      <td>https://s3-media1.fl.yelpcdn.com/bphoto/NiAGMO...</td>\n",
       "      <td>False</td>\n",
       "      <td>https://www.yelp.com/biz/ingles-super-market-j...</td>\n",
       "      <td>11</td>\n",
       "      <td>[{'alias': 'grocery', 'title': 'Grocery'}]</td>\n",
       "      <td>4.0</td>\n",
       "      <td>{'latitude': 34.4636108819589, 'longitude': -8...</td>\n",
       "      <td>[]</td>\n",
       "      <td>$$</td>\n",
       "      <td>{'address1': '1250 Appalachian Hwy', 'address2...</td>\n",
       "      <td>+17066922696</td>\n",
       "      <td>(706) 692-2696</td>\n",
       "      <td>101731.283452</td>\n",
       "    </tr>\n",
       "    <tr>\n",
       "      <th>146</th>\n",
       "      <td>3denrvmw19MHBAw_yJyaeg</td>\n",
       "      <td>kokita-sweetwater-2</td>\n",
       "      <td>Kokita</td>\n",
       "      <td>https://s3-media3.fl.yelpcdn.com/bphoto/3CcscZ...</td>\n",
       "      <td>False</td>\n",
       "      <td>https://www.yelp.com/biz/kokita-sweetwater-2?a...</td>\n",
       "      <td>5</td>\n",
       "      <td>[{'alias': 'catering', 'title': 'Caterers'}]</td>\n",
       "      <td>3.0</td>\n",
       "      <td>{'latitude': 35.6009138498568, 'longitude': -8...</td>\n",
       "      <td>[]</td>\n",
       "      <td>NaN</td>\n",
       "      <td>{'address1': '503 N Main St', 'address2': '', ...</td>\n",
       "      <td>+18659245843</td>\n",
       "      <td>(865) 924-5843</td>\n",
       "      <td>91524.356767</td>\n",
       "    </tr>\n",
       "    <tr>\n",
       "      <th>147</th>\n",
       "      <td>XL9m4qF9nUj7E49FpGB0QQ</td>\n",
       "      <td>panera-bread-chattanooga-5</td>\n",
       "      <td>Panera Bread</td>\n",
       "      <td>https://s3-media1.fl.yelpcdn.com/bphoto/m7waQ_...</td>\n",
       "      <td>False</td>\n",
       "      <td>https://www.yelp.com/biz/panera-bread-chattano...</td>\n",
       "      <td>63</td>\n",
       "      <td>[{'alias': 'sandwiches', 'title': 'Sandwiches'...</td>\n",
       "      <td>3.0</td>\n",
       "      <td>{'latitude': 35.129439, 'longitude': -85.242501}</td>\n",
       "      <td>[pickup, delivery]</td>\n",
       "      <td>$$</td>\n",
       "      <td>{'address1': '562 Northgate Mall Drive', 'addr...</td>\n",
       "      <td>+14238770223</td>\n",
       "      <td>(423) 877-0223</td>\n",
       "      <td>3937.960103</td>\n",
       "    </tr>\n",
       "    <tr>\n",
       "      <th>148</th>\n",
       "      <td>RPMoAQr-bZvW3AqfA56jYA</td>\n",
       "      <td>walmart-supercenter-chattanooga-3</td>\n",
       "      <td>Walmart Supercenter</td>\n",
       "      <td>https://s3-media3.fl.yelpcdn.com/bphoto/AHfoMW...</td>\n",
       "      <td>False</td>\n",
       "      <td>https://www.yelp.com/biz/walmart-supercenter-c...</td>\n",
       "      <td>27</td>\n",
       "      <td>[{'alias': 'deptstores', 'title': 'Department ...</td>\n",
       "      <td>2.0</td>\n",
       "      <td>{'latitude': 35.0943225222391, 'longitude': -8...</td>\n",
       "      <td>[]</td>\n",
       "      <td>$</td>\n",
       "      <td>{'address1': '501 Signal Mountain Rd', 'addres...</td>\n",
       "      <td>+14237567202</td>\n",
       "      <td>(423) 756-7202</td>\n",
       "      <td>6552.590568</td>\n",
       "    </tr>\n",
       "    <tr>\n",
       "      <th>149</th>\n",
       "      <td>Ub3_SVxp92Idrsk4xO1VQg</td>\n",
       "      <td>panera-bread-cleveland</td>\n",
       "      <td>Panera Bread</td>\n",
       "      <td>https://s3-media3.fl.yelpcdn.com/bphoto/oCpwhP...</td>\n",
       "      <td>False</td>\n",
       "      <td>https://www.yelp.com/biz/panera-bread-clevelan...</td>\n",
       "      <td>49</td>\n",
       "      <td>[{'alias': 'sandwiches', 'title': 'Sandwiches'...</td>\n",
       "      <td>3.0</td>\n",
       "      <td>{'latitude': 35.206987, 'longitude': -84.852089}</td>\n",
       "      <td>[pickup, delivery]</td>\n",
       "      <td>$$</td>\n",
       "      <td>{'address1': '375 Paul Huff Parkway', 'address...</td>\n",
       "      <td>+14234725444</td>\n",
       "      <td>(423) 472-5444</td>\n",
       "      <td>39008.331231</td>\n",
       "    </tr>\n",
       "  </tbody>\n",
       "</table>\n",
       "</div>"
      ],
      "text/plain": [
       "                         id                              alias  \\\n",
       "145  EueZwALRh2NmFxfAXsjSEw         ingles-super-market-jasper   \n",
       "146  3denrvmw19MHBAw_yJyaeg                kokita-sweetwater-2   \n",
       "147  XL9m4qF9nUj7E49FpGB0QQ         panera-bread-chattanooga-5   \n",
       "148  RPMoAQr-bZvW3AqfA56jYA  walmart-supercenter-chattanooga-3   \n",
       "149  Ub3_SVxp92Idrsk4xO1VQg             panera-bread-cleveland   \n",
       "\n",
       "                    name                                          image_url  \\\n",
       "145  Ingles Super Market  https://s3-media1.fl.yelpcdn.com/bphoto/NiAGMO...   \n",
       "146               Kokita  https://s3-media3.fl.yelpcdn.com/bphoto/3CcscZ...   \n",
       "147         Panera Bread  https://s3-media1.fl.yelpcdn.com/bphoto/m7waQ_...   \n",
       "148  Walmart Supercenter  https://s3-media3.fl.yelpcdn.com/bphoto/AHfoMW...   \n",
       "149         Panera Bread  https://s3-media3.fl.yelpcdn.com/bphoto/oCpwhP...   \n",
       "\n",
       "     is_closed                                                url  \\\n",
       "145      False  https://www.yelp.com/biz/ingles-super-market-j...   \n",
       "146      False  https://www.yelp.com/biz/kokita-sweetwater-2?a...   \n",
       "147      False  https://www.yelp.com/biz/panera-bread-chattano...   \n",
       "148      False  https://www.yelp.com/biz/walmart-supercenter-c...   \n",
       "149      False  https://www.yelp.com/biz/panera-bread-clevelan...   \n",
       "\n",
       "     review_count                                         categories  rating  \\\n",
       "145            11         [{'alias': 'grocery', 'title': 'Grocery'}]     4.0   \n",
       "146             5       [{'alias': 'catering', 'title': 'Caterers'}]     3.0   \n",
       "147            63  [{'alias': 'sandwiches', 'title': 'Sandwiches'...     3.0   \n",
       "148            27  [{'alias': 'deptstores', 'title': 'Department ...     2.0   \n",
       "149            49  [{'alias': 'sandwiches', 'title': 'Sandwiches'...     3.0   \n",
       "\n",
       "                                           coordinates        transactions  \\\n",
       "145  {'latitude': 34.4636108819589, 'longitude': -8...                  []   \n",
       "146  {'latitude': 35.6009138498568, 'longitude': -8...                  []   \n",
       "147   {'latitude': 35.129439, 'longitude': -85.242501}  [pickup, delivery]   \n",
       "148  {'latitude': 35.0943225222391, 'longitude': -8...                  []   \n",
       "149   {'latitude': 35.206987, 'longitude': -84.852089}  [pickup, delivery]   \n",
       "\n",
       "    price                                           location         phone  \\\n",
       "145    $$  {'address1': '1250 Appalachian Hwy', 'address2...  +17066922696   \n",
       "146   NaN  {'address1': '503 N Main St', 'address2': '', ...  +18659245843   \n",
       "147    $$  {'address1': '562 Northgate Mall Drive', 'addr...  +14238770223   \n",
       "148     $  {'address1': '501 Signal Mountain Rd', 'addres...  +14237567202   \n",
       "149    $$  {'address1': '375 Paul Huff Parkway', 'address...  +14234725444   \n",
       "\n",
       "      display_phone       distance  \n",
       "145  (706) 692-2696  101731.283452  \n",
       "146  (865) 924-5843   91524.356767  \n",
       "147  (423) 877-0223    3937.960103  \n",
       "148  (423) 756-7202    6552.590568  \n",
       "149  (423) 472-5444   39008.331231  "
      ]
     },
     "metadata": {},
     "output_type": "display_data"
    }
   ],
   "source": [
    "# Load final results\n",
    "final_df = pd.read_json(JSON_FILE)\n",
    "display(final_df.head(), final_df.tail())"
   ]
  },
  {
   "cell_type": "code",
   "execution_count": 91,
   "id": "3e6dbb09",
   "metadata": {},
   "outputs": [
    {
     "data": {
      "text/plain": [
       "0"
      ]
     },
     "execution_count": 91,
     "metadata": {},
     "output_type": "execute_result"
    }
   ],
   "source": [
    "# Check for duplicate results\n",
    "final_df.duplicated(subset= 'id').sum()"
   ]
  },
  {
   "cell_type": "code",
   "execution_count": 92,
   "id": "b038f41f",
   "metadata": {},
   "outputs": [
    {
     "data": {
      "text/plain": [
       "0"
      ]
     },
     "execution_count": 92,
     "metadata": {},
     "output_type": "execute_result"
    }
   ],
   "source": [
    "# Drop duplicate ids and confirm there are no more duplicates\n",
    "fina_df = final_df.drop_duplicates(subset= 'id')\n",
    "fina_df.duplicated(subset= 'id').sum()"
   ]
  },
  {
   "cell_type": "code",
   "execution_count": 97,
   "id": "63be9ca3",
   "metadata": {},
   "outputs": [],
   "source": [
    "# Save the final results to a compressed csv\n",
    "final_df.to_csv('Data/final_results_Chattanooga_asian.csv.gz',\n",
    "compression =\"gzip\", index = False)\n",
    "\n",
    "# Save the final results to an uncompressed csv\n",
    "final_df.to_csv('Data/final_results_Chattanooga_asian.csv', index = False)"
   ]
  },
  {
   "cell_type": "code",
   "execution_count": null,
   "id": "734e3477",
   "metadata": {},
   "outputs": [],
   "source": []
  }
 ],
 "metadata": {
  "kernelspec": {
   "display_name": "Python (dojo-env)",
   "language": "python",
   "name": "dojo-env"
  },
  "language_info": {
   "codemirror_mode": {
    "name": "ipython",
    "version": 3
   },
   "file_extension": ".py",
   "mimetype": "text/x-python",
   "name": "python",
   "nbconvert_exporter": "python",
   "pygments_lexer": "ipython3",
   "version": "3.9.15"
  },
  "toc": {
   "base_numbering": 1,
   "nav_menu": {},
   "number_sections": false,
   "sideBar": true,
   "skip_h1_title": false,
   "title_cell": "Table of Contents",
   "title_sidebar": "Contents",
   "toc_cell": false,
   "toc_position": {},
   "toc_section_display": true,
   "toc_window_display": false
  }
 },
 "nbformat": 4,
 "nbformat_minor": 5
}
