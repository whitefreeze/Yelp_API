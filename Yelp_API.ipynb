{
 "cells": [
  {
   "cell_type": "code",
   "execution_count": 8,
   "id": "a187232e",
   "metadata": {},
   "outputs": [],
   "source": [
    "import pandas as pd"
   ]
  },
  {
   "cell_type": "code",
   "execution_count": 2,
   "id": "c90d3957",
   "metadata": {},
   "outputs": [
    {
     "data": {
      "text/plain": [
       "dict_keys(['client-id', 'api-key'])"
      ]
     },
     "execution_count": 2,
     "metadata": {},
     "output_type": "execute_result"
    }
   ],
   "source": [
    "import json\n",
    "with open('/Users/whitefreeze/.secret/yelp_api.json') as f:\n",
    "    login = json.load(f)\n",
    "login.keys()"
   ]
  },
  {
   "cell_type": "code",
   "execution_count": 3,
   "id": "32d80fa0",
   "metadata": {},
   "outputs": [
    {
     "data": {
      "text/plain": [
       "<yelpapi.yelpapi.YelpAPI at 0x1078d89a0>"
      ]
     },
     "execution_count": 3,
     "metadata": {},
     "output_type": "execute_result"
    }
   ],
   "source": [
    "from yelpapi import YelpAPI\n",
    "yelp_api = YelpAPI(login['api-key'], timeout_s=5.0)\n",
    "yelp_api"
   ]
  },
  {
   "cell_type": "code",
   "execution_count": 4,
   "id": "82023739",
   "metadata": {},
   "outputs": [
    {
     "name": "stdout",
     "output_type": "stream",
     "text": [
      "<class 'dict'>\n"
     ]
    },
    {
     "data": {
      "text/plain": [
       "dict_keys(['businesses', 'total', 'region'])"
      ]
     },
     "execution_count": 4,
     "metadata": {},
     "output_type": "execute_result"
    }
   ],
   "source": [
    "results = yelp_api.search_query(location='Baltimore, MD', term='Crab Cake')\n",
    "print(type(results))\n",
    "results.keys()"
   ]
  },
  {
   "cell_type": "code",
   "execution_count": 5,
   "id": "ca3b1dc4",
   "metadata": {},
   "outputs": [
    {
     "name": "stdout",
     "output_type": "stream",
     "text": [
      "Help on method search_query in module yelpapi.yelpapi:\n",
      "\n",
      "search_query(**kwargs) method of yelpapi.yelpapi.YelpAPI instance\n",
      "    Query the Yelp Search API.\n",
      "    \n",
      "    documentation: https://www.yelp.com/developers/documentation/v3/business_search\n",
      "    \n",
      "    required parameters:\n",
      "        * one of either:\n",
      "            * location - text specifying a location to search for\n",
      "            * latitude and longitude\n",
      "\n"
     ]
    }
   ],
   "source": [
    "help(yelp_api.search_query)"
   ]
  },
  {
   "cell_type": "code",
   "execution_count": 6,
   "id": "e429958f",
   "metadata": {},
   "outputs": [
    {
     "data": {
      "text/plain": [
       "1400"
      ]
     },
     "execution_count": 6,
     "metadata": {},
     "output_type": "execute_result"
    }
   ],
   "source": [
    "results['total']"
   ]
  },
  {
   "cell_type": "code",
   "execution_count": 10,
   "id": "bd06afc3",
   "metadata": {},
   "outputs": [
    {
     "data": {
      "text/html": [
       "<div>\n",
       "<style scoped>\n",
       "    .dataframe tbody tr th:only-of-type {\n",
       "        vertical-align: middle;\n",
       "    }\n",
       "\n",
       "    .dataframe tbody tr th {\n",
       "        vertical-align: top;\n",
       "    }\n",
       "\n",
       "    .dataframe thead th {\n",
       "        text-align: right;\n",
       "    }\n",
       "</style>\n",
       "<table border=\"1\" class=\"dataframe\">\n",
       "  <thead>\n",
       "    <tr style=\"text-align: right;\">\n",
       "      <th></th>\n",
       "      <th>id</th>\n",
       "      <th>alias</th>\n",
       "      <th>name</th>\n",
       "      <th>image_url</th>\n",
       "      <th>is_closed</th>\n",
       "      <th>url</th>\n",
       "      <th>review_count</th>\n",
       "      <th>categories</th>\n",
       "      <th>rating</th>\n",
       "      <th>coordinates</th>\n",
       "      <th>transactions</th>\n",
       "      <th>price</th>\n",
       "      <th>location</th>\n",
       "      <th>phone</th>\n",
       "      <th>display_phone</th>\n",
       "      <th>distance</th>\n",
       "    </tr>\n",
       "  </thead>\n",
       "  <tbody>\n",
       "    <tr>\n",
       "      <th>0</th>\n",
       "      <td>ieS_5zqxDHcWMCm8BKUYbg</td>\n",
       "      <td>thames-street-oyster-house-baltimore</td>\n",
       "      <td>Thames Street Oyster House</td>\n",
       "      <td>https://s3-media4.fl.yelpcdn.com/bphoto/SLti9z...</td>\n",
       "      <td>False</td>\n",
       "      <td>https://www.yelp.com/biz/thames-street-oyster-...</td>\n",
       "      <td>3055</td>\n",
       "      <td>[{'alias': 'seafood', 'title': 'Seafood'}, {'a...</td>\n",
       "      <td>4.5</td>\n",
       "      <td>{'latitude': 39.28214, 'longitude': -76.59162}</td>\n",
       "      <td>[delivery]</td>\n",
       "      <td>$$$</td>\n",
       "      <td>{'address1': '1728 Thames St', 'address2': '',...</td>\n",
       "      <td>+14434497726</td>\n",
       "      <td>(443) 449-7726</td>\n",
       "      <td>2456.902005</td>\n",
       "    </tr>\n",
       "    <tr>\n",
       "      <th>1</th>\n",
       "      <td>D9A33FM394q99o4QtK5YwA</td>\n",
       "      <td>faidleys-seafood-baltimore-3</td>\n",
       "      <td>Faidley's Seafood</td>\n",
       "      <td>https://s3-media3.fl.yelpcdn.com/bphoto/Rw16OE...</td>\n",
       "      <td>False</td>\n",
       "      <td>https://www.yelp.com/biz/faidleys-seafood-balt...</td>\n",
       "      <td>1290</td>\n",
       "      <td>[{'alias': 'seafoodmarkets', 'title': 'Seafood...</td>\n",
       "      <td>4.0</td>\n",
       "      <td>{'latitude': 39.291696, 'longitude': -76.62224}</td>\n",
       "      <td>[delivery]</td>\n",
       "      <td>$$</td>\n",
       "      <td>{'address1': '203 N Paca St', 'address2': '', ...</td>\n",
       "      <td>+14107274898</td>\n",
       "      <td>(410) 727-4898</td>\n",
       "      <td>857.697410</td>\n",
       "    </tr>\n",
       "  </tbody>\n",
       "</table>\n",
       "</div>"
      ],
      "text/plain": [
       "                       id                                 alias  \\\n",
       "0  ieS_5zqxDHcWMCm8BKUYbg  thames-street-oyster-house-baltimore   \n",
       "1  D9A33FM394q99o4QtK5YwA          faidleys-seafood-baltimore-3   \n",
       "\n",
       "                         name  \\\n",
       "0  Thames Street Oyster House   \n",
       "1           Faidley's Seafood   \n",
       "\n",
       "                                           image_url  is_closed  \\\n",
       "0  https://s3-media4.fl.yelpcdn.com/bphoto/SLti9z...      False   \n",
       "1  https://s3-media3.fl.yelpcdn.com/bphoto/Rw16OE...      False   \n",
       "\n",
       "                                                 url  review_count  \\\n",
       "0  https://www.yelp.com/biz/thames-street-oyster-...          3055   \n",
       "1  https://www.yelp.com/biz/faidleys-seafood-balt...          1290   \n",
       "\n",
       "                                          categories  rating  \\\n",
       "0  [{'alias': 'seafood', 'title': 'Seafood'}, {'a...     4.5   \n",
       "1  [{'alias': 'seafoodmarkets', 'title': 'Seafood...     4.0   \n",
       "\n",
       "                                       coordinates transactions price  \\\n",
       "0   {'latitude': 39.28214, 'longitude': -76.59162}   [delivery]   $$$   \n",
       "1  {'latitude': 39.291696, 'longitude': -76.62224}   [delivery]    $$   \n",
       "\n",
       "                                            location         phone  \\\n",
       "0  {'address1': '1728 Thames St', 'address2': '',...  +14434497726   \n",
       "1  {'address1': '203 N Paca St', 'address2': '', ...  +14107274898   \n",
       "\n",
       "    display_phone     distance  \n",
       "0  (443) 449-7726  2456.902005  \n",
       "1  (410) 727-4898   857.697410  "
      ]
     },
     "execution_count": 10,
     "metadata": {},
     "output_type": "execute_result"
    }
   ],
   "source": [
    "biz = pd.DataFrame(results['businesses'])\n",
    "biz.head(2)"
   ]
  },
  {
   "cell_type": "code",
   "execution_count": 11,
   "id": "862f62e5",
   "metadata": {},
   "outputs": [
    {
     "data": {
      "text/plain": [
       "20"
      ]
     },
     "execution_count": 11,
     "metadata": {},
     "output_type": "execute_result"
    }
   ],
   "source": [
    "len(results['businesses'])"
   ]
  },
  {
   "cell_type": "code",
   "execution_count": 12,
   "id": "5a087395",
   "metadata": {},
   "outputs": [
    {
     "data": {
      "text/html": [
       "<div>\n",
       "<style scoped>\n",
       "    .dataframe tbody tr th:only-of-type {\n",
       "        vertical-align: middle;\n",
       "    }\n",
       "\n",
       "    .dataframe tbody tr th {\n",
       "        vertical-align: top;\n",
       "    }\n",
       "\n",
       "    .dataframe thead th {\n",
       "        text-align: right;\n",
       "    }\n",
       "</style>\n",
       "<table border=\"1\" class=\"dataframe\">\n",
       "  <thead>\n",
       "    <tr style=\"text-align: right;\">\n",
       "      <th></th>\n",
       "      <th>id</th>\n",
       "      <th>alias</th>\n",
       "      <th>name</th>\n",
       "      <th>image_url</th>\n",
       "      <th>is_closed</th>\n",
       "      <th>url</th>\n",
       "      <th>review_count</th>\n",
       "      <th>categories</th>\n",
       "      <th>rating</th>\n",
       "      <th>coordinates</th>\n",
       "      <th>transactions</th>\n",
       "      <th>price</th>\n",
       "      <th>location</th>\n",
       "      <th>phone</th>\n",
       "      <th>display_phone</th>\n",
       "      <th>distance</th>\n",
       "    </tr>\n",
       "  </thead>\n",
       "  <tbody>\n",
       "    <tr>\n",
       "      <th>0</th>\n",
       "      <td>AjMBJPjnaGIVhBd08gpjvA</td>\n",
       "      <td>the-water-street-tavern-and-key-west-patio-bar...</td>\n",
       "      <td>The Water Street Tavern &amp; Key West Patio Bar</td>\n",
       "      <td>https://s3-media2.fl.yelpcdn.com/bphoto/yWwgl1...</td>\n",
       "      <td>False</td>\n",
       "      <td>https://www.yelp.com/biz/the-water-street-tave...</td>\n",
       "      <td>295</td>\n",
       "      <td>[{'alias': 'tradamerican', 'title': 'American ...</td>\n",
       "      <td>4.0</td>\n",
       "      <td>{'latitude': 39.288553, 'longitude': -76.613303}</td>\n",
       "      <td>[delivery]</td>\n",
       "      <td>$$</td>\n",
       "      <td>{'address1': '102 Water St', 'address2': '', '...</td>\n",
       "      <td>+14106059495</td>\n",
       "      <td>(410) 605-9495</td>\n",
       "      <td>756.106350</td>\n",
       "    </tr>\n",
       "    <tr>\n",
       "      <th>1</th>\n",
       "      <td>TPQmNAM2g1vmm2xCfhyEJw</td>\n",
       "      <td>pratt-street-ale-house-baltimore</td>\n",
       "      <td>Pratt Street Ale House</td>\n",
       "      <td>https://s3-media4.fl.yelpcdn.com/bphoto/DA0K3G...</td>\n",
       "      <td>False</td>\n",
       "      <td>https://www.yelp.com/biz/pratt-street-ale-hous...</td>\n",
       "      <td>893</td>\n",
       "      <td>[{'alias': 'pubs', 'title': 'Pubs'}, {'alias':...</td>\n",
       "      <td>3.5</td>\n",
       "      <td>{'latitude': 39.2865982055664, 'longitude': -7...</td>\n",
       "      <td>[delivery, pickup]</td>\n",
       "      <td>$$</td>\n",
       "      <td>{'address1': '206 W Pratt St', 'address2': '',...</td>\n",
       "      <td>+14102448900</td>\n",
       "      <td>(410) 244-8900</td>\n",
       "      <td>311.014192</td>\n",
       "    </tr>\n",
       "  </tbody>\n",
       "</table>\n",
       "</div>"
      ],
      "text/plain": [
       "                       id                                              alias  \\\n",
       "0  AjMBJPjnaGIVhBd08gpjvA  the-water-street-tavern-and-key-west-patio-bar...   \n",
       "1  TPQmNAM2g1vmm2xCfhyEJw                   pratt-street-ale-house-baltimore   \n",
       "\n",
       "                                           name  \\\n",
       "0  The Water Street Tavern & Key West Patio Bar   \n",
       "1                        Pratt Street Ale House   \n",
       "\n",
       "                                           image_url  is_closed  \\\n",
       "0  https://s3-media2.fl.yelpcdn.com/bphoto/yWwgl1...      False   \n",
       "1  https://s3-media4.fl.yelpcdn.com/bphoto/DA0K3G...      False   \n",
       "\n",
       "                                                 url  review_count  \\\n",
       "0  https://www.yelp.com/biz/the-water-street-tave...           295   \n",
       "1  https://www.yelp.com/biz/pratt-street-ale-hous...           893   \n",
       "\n",
       "                                          categories  rating  \\\n",
       "0  [{'alias': 'tradamerican', 'title': 'American ...     4.0   \n",
       "1  [{'alias': 'pubs', 'title': 'Pubs'}, {'alias':...     3.5   \n",
       "\n",
       "                                         coordinates        transactions  \\\n",
       "0   {'latitude': 39.288553, 'longitude': -76.613303}          [delivery]   \n",
       "1  {'latitude': 39.2865982055664, 'longitude': -7...  [delivery, pickup]   \n",
       "\n",
       "  price                                           location         phone  \\\n",
       "0    $$  {'address1': '102 Water St', 'address2': '', '...  +14106059495   \n",
       "1    $$  {'address1': '206 W Pratt St', 'address2': '',...  +14102448900   \n",
       "\n",
       "    display_phone    distance  \n",
       "0  (410) 605-9495  756.106350  \n",
       "1  (410) 244-8900  311.014192  "
      ]
     },
     "execution_count": 12,
     "metadata": {},
     "output_type": "execute_result"
    }
   ],
   "source": [
    "results = yelp_api.search_query(location='Baltimore, MD', term='Crab Cake', \n",
    "                               offset = 20)\n",
    "biz20 = pd.DataFrame(results['businesses'])\n",
    "biz20.head(2)"
   ]
  },
  {
   "cell_type": "code",
   "execution_count": 14,
   "id": "421e12f7",
   "metadata": {},
   "outputs": [
    {
     "data": {
      "text/html": [
       "<div>\n",
       "<style scoped>\n",
       "    .dataframe tbody tr th:only-of-type {\n",
       "        vertical-align: middle;\n",
       "    }\n",
       "\n",
       "    .dataframe tbody tr th {\n",
       "        vertical-align: top;\n",
       "    }\n",
       "\n",
       "    .dataframe thead th {\n",
       "        text-align: right;\n",
       "    }\n",
       "</style>\n",
       "<table border=\"1\" class=\"dataframe\">\n",
       "  <thead>\n",
       "    <tr style=\"text-align: right;\">\n",
       "      <th></th>\n",
       "      <th>id</th>\n",
       "      <th>alias</th>\n",
       "      <th>name</th>\n",
       "      <th>image_url</th>\n",
       "      <th>is_closed</th>\n",
       "      <th>url</th>\n",
       "      <th>review_count</th>\n",
       "      <th>categories</th>\n",
       "      <th>rating</th>\n",
       "      <th>coordinates</th>\n",
       "      <th>transactions</th>\n",
       "      <th>price</th>\n",
       "      <th>location</th>\n",
       "      <th>phone</th>\n",
       "      <th>display_phone</th>\n",
       "      <th>distance</th>\n",
       "    </tr>\n",
       "  </thead>\n",
       "  <tbody>\n",
       "    <tr>\n",
       "      <th>0</th>\n",
       "      <td>ieS_5zqxDHcWMCm8BKUYbg</td>\n",
       "      <td>thames-street-oyster-house-baltimore</td>\n",
       "      <td>Thames Street Oyster House</td>\n",
       "      <td>https://s3-media4.fl.yelpcdn.com/bphoto/SLti9z...</td>\n",
       "      <td>False</td>\n",
       "      <td>https://www.yelp.com/biz/thames-street-oyster-...</td>\n",
       "      <td>3055</td>\n",
       "      <td>[{'alias': 'seafood', 'title': 'Seafood'}, {'a...</td>\n",
       "      <td>4.5</td>\n",
       "      <td>{'latitude': 39.28214, 'longitude': -76.59162}</td>\n",
       "      <td>[delivery]</td>\n",
       "      <td>$$$</td>\n",
       "      <td>{'address1': '1728 Thames St', 'address2': '',...</td>\n",
       "      <td>+14434497726</td>\n",
       "      <td>(443) 449-7726</td>\n",
       "      <td>2456.902005</td>\n",
       "    </tr>\n",
       "    <tr>\n",
       "      <th>1</th>\n",
       "      <td>D9A33FM394q99o4QtK5YwA</td>\n",
       "      <td>faidleys-seafood-baltimore-3</td>\n",
       "      <td>Faidley's Seafood</td>\n",
       "      <td>https://s3-media3.fl.yelpcdn.com/bphoto/Rw16OE...</td>\n",
       "      <td>False</td>\n",
       "      <td>https://www.yelp.com/biz/faidleys-seafood-balt...</td>\n",
       "      <td>1290</td>\n",
       "      <td>[{'alias': 'seafoodmarkets', 'title': 'Seafood...</td>\n",
       "      <td>4.0</td>\n",
       "      <td>{'latitude': 39.291696, 'longitude': -76.62224}</td>\n",
       "      <td>[delivery]</td>\n",
       "      <td>$$</td>\n",
       "      <td>{'address1': '203 N Paca St', 'address2': '', ...</td>\n",
       "      <td>+14107274898</td>\n",
       "      <td>(410) 727-4898</td>\n",
       "      <td>857.697410</td>\n",
       "    </tr>\n",
       "  </tbody>\n",
       "</table>\n",
       "</div>"
      ],
      "text/plain": [
       "                       id                                 alias  \\\n",
       "0  ieS_5zqxDHcWMCm8BKUYbg  thames-street-oyster-house-baltimore   \n",
       "1  D9A33FM394q99o4QtK5YwA          faidleys-seafood-baltimore-3   \n",
       "\n",
       "                         name  \\\n",
       "0  Thames Street Oyster House   \n",
       "1           Faidley's Seafood   \n",
       "\n",
       "                                           image_url  is_closed  \\\n",
       "0  https://s3-media4.fl.yelpcdn.com/bphoto/SLti9z...      False   \n",
       "1  https://s3-media3.fl.yelpcdn.com/bphoto/Rw16OE...      False   \n",
       "\n",
       "                                                 url  review_count  \\\n",
       "0  https://www.yelp.com/biz/thames-street-oyster-...          3055   \n",
       "1  https://www.yelp.com/biz/faidleys-seafood-balt...          1290   \n",
       "\n",
       "                                          categories  rating  \\\n",
       "0  [{'alias': 'seafood', 'title': 'Seafood'}, {'a...     4.5   \n",
       "1  [{'alias': 'seafoodmarkets', 'title': 'Seafood...     4.0   \n",
       "\n",
       "                                       coordinates transactions price  \\\n",
       "0   {'latitude': 39.28214, 'longitude': -76.59162}   [delivery]   $$$   \n",
       "1  {'latitude': 39.291696, 'longitude': -76.62224}   [delivery]    $$   \n",
       "\n",
       "                                            location         phone  \\\n",
       "0  {'address1': '1728 Thames St', 'address2': '',...  +14434497726   \n",
       "1  {'address1': '203 N Paca St', 'address2': '', ...  +14107274898   \n",
       "\n",
       "    display_phone     distance  \n",
       "0  (443) 449-7726  2456.902005  \n",
       "1  (410) 727-4898   857.697410  "
      ]
     },
     "metadata": {},
     "output_type": "display_data"
    },
    {
     "data": {
      "text/html": [
       "<div>\n",
       "<style scoped>\n",
       "    .dataframe tbody tr th:only-of-type {\n",
       "        vertical-align: middle;\n",
       "    }\n",
       "\n",
       "    .dataframe tbody tr th {\n",
       "        vertical-align: top;\n",
       "    }\n",
       "\n",
       "    .dataframe thead th {\n",
       "        text-align: right;\n",
       "    }\n",
       "</style>\n",
       "<table border=\"1\" class=\"dataframe\">\n",
       "  <thead>\n",
       "    <tr style=\"text-align: right;\">\n",
       "      <th></th>\n",
       "      <th>id</th>\n",
       "      <th>alias</th>\n",
       "      <th>name</th>\n",
       "      <th>image_url</th>\n",
       "      <th>is_closed</th>\n",
       "      <th>url</th>\n",
       "      <th>review_count</th>\n",
       "      <th>categories</th>\n",
       "      <th>rating</th>\n",
       "      <th>coordinates</th>\n",
       "      <th>transactions</th>\n",
       "      <th>price</th>\n",
       "      <th>location</th>\n",
       "      <th>phone</th>\n",
       "      <th>display_phone</th>\n",
       "      <th>distance</th>\n",
       "    </tr>\n",
       "  </thead>\n",
       "  <tbody>\n",
       "    <tr>\n",
       "      <th>38</th>\n",
       "      <td>8-cBsSXmLaGK6qCD0tmcZg</td>\n",
       "      <td>the-food-market-baltimore</td>\n",
       "      <td>The Food Market</td>\n",
       "      <td>https://s3-media4.fl.yelpcdn.com/bphoto/8vVCxz...</td>\n",
       "      <td>False</td>\n",
       "      <td>https://www.yelp.com/biz/the-food-market-balti...</td>\n",
       "      <td>1352</td>\n",
       "      <td>[{'alias': 'newamerican', 'title': 'American (...</td>\n",
       "      <td>4.5</td>\n",
       "      <td>{'latitude': 39.3310122069348, 'longitude': -7...</td>\n",
       "      <td>[delivery]</td>\n",
       "      <td>$$</td>\n",
       "      <td>{'address1': '1017 W 36th St', 'address2': '',...</td>\n",
       "      <td>+14103660606</td>\n",
       "      <td>(410) 366-0606</td>\n",
       "      <td>5329.922646</td>\n",
       "    </tr>\n",
       "    <tr>\n",
       "      <th>39</th>\n",
       "      <td>47Q2Xv30J9lu16UHnRmYvA</td>\n",
       "      <td>sobo-cafe-baltimore</td>\n",
       "      <td>SoBo Cafe</td>\n",
       "      <td>https://s3-media1.fl.yelpcdn.com/bphoto/9BNnE3...</td>\n",
       "      <td>False</td>\n",
       "      <td>https://www.yelp.com/biz/sobo-cafe-baltimore?a...</td>\n",
       "      <td>444</td>\n",
       "      <td>[{'alias': 'newamerican', 'title': 'American (...</td>\n",
       "      <td>4.5</td>\n",
       "      <td>{'latitude': 39.2768999, 'longitude': -76.6148...</td>\n",
       "      <td>[delivery, pickup]</td>\n",
       "      <td>$$</td>\n",
       "      <td>{'address1': '6 W Cross St', 'address2': None,...</td>\n",
       "      <td>+14107521518</td>\n",
       "      <td>(410) 752-1518</td>\n",
       "      <td>922.761503</td>\n",
       "    </tr>\n",
       "  </tbody>\n",
       "</table>\n",
       "</div>"
      ],
      "text/plain": [
       "                        id                      alias             name  \\\n",
       "38  8-cBsSXmLaGK6qCD0tmcZg  the-food-market-baltimore  The Food Market   \n",
       "39  47Q2Xv30J9lu16UHnRmYvA        sobo-cafe-baltimore        SoBo Cafe   \n",
       "\n",
       "                                            image_url  is_closed  \\\n",
       "38  https://s3-media4.fl.yelpcdn.com/bphoto/8vVCxz...      False   \n",
       "39  https://s3-media1.fl.yelpcdn.com/bphoto/9BNnE3...      False   \n",
       "\n",
       "                                                  url  review_count  \\\n",
       "38  https://www.yelp.com/biz/the-food-market-balti...          1352   \n",
       "39  https://www.yelp.com/biz/sobo-cafe-baltimore?a...           444   \n",
       "\n",
       "                                           categories  rating  \\\n",
       "38  [{'alias': 'newamerican', 'title': 'American (...     4.5   \n",
       "39  [{'alias': 'newamerican', 'title': 'American (...     4.5   \n",
       "\n",
       "                                          coordinates        transactions  \\\n",
       "38  {'latitude': 39.3310122069348, 'longitude': -7...          [delivery]   \n",
       "39  {'latitude': 39.2768999, 'longitude': -76.6148...  [delivery, pickup]   \n",
       "\n",
       "   price                                           location         phone  \\\n",
       "38    $$  {'address1': '1017 W 36th St', 'address2': '',...  +14103660606   \n",
       "39    $$  {'address1': '6 W Cross St', 'address2': None,...  +14107521518   \n",
       "\n",
       "     display_phone     distance  \n",
       "38  (410) 366-0606  5329.922646  \n",
       "39  (410) 752-1518   922.761503  "
      ]
     },
     "metadata": {},
     "output_type": "display_data"
    }
   ],
   "source": [
    "businesses = pd.concat([biz, biz20], ignore_index = True)\n",
    "display(businesses.head(2), businesses.tail(2))"
   ]
  },
  {
   "cell_type": "code",
   "execution_count": 17,
   "id": "1e2587bb",
   "metadata": {
    "scrolled": true
   },
   "outputs": [
    {
     "data": {
      "text/plain": [
       "40"
      ]
     },
     "execution_count": 17,
     "metadata": {},
     "output_type": "execute_result"
    }
   ],
   "source": [
    "len(businesses)"
   ]
  },
  {
   "cell_type": "code",
   "execution_count": 16,
   "id": "bbc29a1c",
   "metadata": {},
   "outputs": [
    {
     "data": {
      "text/plain": [
       "'[{\"id\":\"ieS_5zqxDHcWMCm8BKUYbg\",\"alias\":\"thames-street-oyster-house-baltimore\",\"name\":\"Thames Street Oyster House\",\"image_url\":\"https:\\\\/\\\\/s3-media4.fl.yelpcdn.com\\\\/bphoto\\\\/SLti9zFJjM7IWO3UC8vH3w\\\\/o.jpg\",\"is_closed\":false,\"url\":\"https:\\\\/\\\\/www.yelp.com\\\\/biz\\\\/thames-street-oyster-house-baltimore?adjust_creative=dDrgJ5jr3huSDkINiLtKBw&utm_campaign=yelp_api_v3&utm_medium=api_v3_business_search&utm_source=dDrgJ5jr3huSDkINiLtKBw\",\"review_count\":3055,\"categories\":[{\"alias\":\"seafood\",\"title\":\"Seafood\"},{\"alias\":\"raw_food\",\"title\":\"Live\\\\/Raw Food\"}],\"rating\":4.5,\"coordinates\":{\"latitude\":39.28214,\"longitude\":-76.59162},\"transactions\":[\"delivery\"],\"price\":\"$$$\",\"location\":{\"address1\":\"1728 Thames St\",\"address2\":\"\",\"address3\":\"\",\"city\":\"Baltimore\",\"zip_code\":\"21231\",\"country\":\"US\",\"state\":\"MD\",\"display_address\":[\"1728 Thames St\",\"Baltimore, MD 21231\"]},\"phone\":\"+14434497726\",\"display_phone\":\"(443) 449-7726\",\"distance\":2456.9020051916},{\"id\":\"D9A33FM394q99o4QtK5YwA\",\"alias\":\"faidleys-seafood-baltimore-3\",\"name\":\"Faidley\\'s Seafood\",\"image_url\":\"https:\\\\/\\\\/s3-media3.fl.yelpcdn.com\\\\/bphoto\\\\/Rw16OEWlGIIs-zcJ64vIMg\\\\/o.jpg\",\"is_closed\":false,\"url\":\"https:\\\\/\\\\/www.yelp.com\\\\/biz\\\\/faidleys-seafood-baltimore-3?adjust_creative=dDrgJ5jr3huSDkINiLtKBw&utm_campaign=yelp_api_v3&utm_medium=api_v3_business_search&utm_source=dDrgJ5jr3huSDkINiLtKBw\",\"review_count\":1290,\"categories\":[{\"alias\":\"seafoodmarkets\",\"title\":\"Seafood Markets\"},{\"alias\":\"beerbar\",\"title\":\"Beer Bar\"}],\"rating\":4.0,\"coordinates\":{\"latitude\":39.291696,\"longitude\":-76.62224},\"transactions\":[\"delivery\"],\"price\":\"$$\",\"location\":{\"address1\":\"203 N Paca St\",\"address2\":\"\",\"address3\":\"\",\"city\":\"Baltimore\",\"zip_code\":\"21201\",\"country\":\"US\",\"state\":\"MD\",\"display_address\":[\"203 N Paca St\",\"Baltimore, MD 21201\"]},\"phone\":\"+14107274898\",\"display_phone\":\"(410) 727-4898\",\"distance\":857.6974096394},{\"id\":\"1C8QSqc-erkkyAUywh501A\",\"alias\":\"angies-seafood-baltimore\",\"name\":\"Angie\\'s Seafood\",\"image_url\":\"https:\\\\/\\\\/s3-media1.fl.yelpcdn.com\\\\/bphoto\\\\/pqkYsm6ONXVkSlozotFWKA\\\\/o.jpg\",\"is_closed\":false,\"url\":\"https:\\\\/\\\\/www.yelp.com\\\\/biz\\\\/angies-seafood-baltimore?adjust_creative=dDrgJ5jr3huSDkINiLtKBw&utm_campaign=yelp_api_v3&utm_medium=api_v3_business_search&utm_source=dDrgJ5jr3huSDkINiLtKBw\",\"review_count\":890,\"categories\":[{\"alias\":\"seafood\",\"title\":\"Seafood\"},{\"alias\":\"soup\",\"title\":\"Soup\"},{\"alias\":\"salad\",\"title\":\"Salad\"}],\"rating\":4.5,\"coordinates\":{\"latitude\":39.2892071489,\"longitude\":-76.5927557432},\"transactions\":[\"pickup\",\"delivery\"],\"price\":\"$$\",\"location\":{\"address1\":\"1727 E Pratt St\",\"address2\":null,\"address3\":\"\",\"city\":\"Baltimore\",\"zip_code\":\"21231\",\"country\":\"US\",\"state\":\"MD\",\"display_address\":[\"1727 E Pratt St\",\"Baltimore, MD 21231\"]},\"phone\":\"+14103420917\",\"display_phone\":\"(410) 342-0917\",\"distance\":2412.7107302823},{\"id\":\"ISn7WyGQaFpsVSRSh0NSqg\",\"alias\":\"sal-and-sons-baltimore\",\"name\":\"Sal and Sons\",\"image_url\":\"https:\\\\/\\\\/s3-media1.fl.yelpcdn.com\\\\/bphoto\\\\/l7x7fEHmJ7bDc7sMC7z31w\\\\/o.jpg\",\"is_closed\":false,\"url\":\"https:\\\\/\\\\/www.yelp.com\\\\/biz\\\\/sal-and-sons-baltimore?adjust_creative=dDrgJ5jr3huSDkINiLtKBw&utm_campaign=yelp_api_v3&utm_medium=api_v3_business_search&utm_source=dDrgJ5jr3huSDkINiLtKBw\",\"review_count\":192,\"categories\":[{\"alias\":\"seafood\",\"title\":\"Seafood\"},{\"alias\":\"seafoodmarkets\",\"title\":\"Seafood Markets\"}],\"rating\":4.5,\"coordinates\":{\"latitude\":39.284,\"longitude\":-76.59337},\"transactions\":[\"pickup\",\"delivery\"],\"price\":\"$$\",\"location\":{\"address1\":\"1640 Aliceanna St\",\"address2\":\"\",\"address3\":\"Broadway Market\",\"city\":\"Baltimore\",\"zip_code\":\"21231\",\"country\":\"US\",\"state\":\"MD\",\"display_address\":[\"1640 Aliceanna St\",\"Broadway Market\",\"Baltimore, MD 21231\"]},\"phone\":\"+14106751466\",\"display_phone\":\"(410) 675-1466\",\"distance\":2291.4906969983},{\"id\":\"u65W69AhbjUlvJJBkEhGNQ\",\"alias\":\"miss-shirleys-cafe-baltimore-9\",\"name\":\"Miss Shirley\\'s Cafe\",\"image_url\":\"https:\\\\/\\\\/s3-media3.fl.yelpcdn.com\\\\/bphoto\\\\/HF-IryHz7buWRPcjnz-nGw\\\\/o.jpg\",\"is_closed\":false,\"url\":\"https:\\\\/\\\\/www.yelp.com\\\\/biz\\\\/miss-shirleys-cafe-baltimore-9?adjust_creative=dDrgJ5jr3huSDkINiLtKBw&utm_campaign=yelp_api_v3&utm_medium=api_v3_business_search&utm_source=dDrgJ5jr3huSDkINiLtKBw\",\"review_count\":3330,\"categories\":[{\"alias\":\"breakfast_brunch\",\"title\":\"Breakfast & Brunch\"},{\"alias\":\"tradamerican\",\"title\":\"American (Traditional)\"},{\"alias\":\"cafes\",\"title\":\"Cafes\"}],\"rating\":4.0,\"coordinates\":{\"latitude\":39.2870995,\"longitude\":-76.6053657},\"transactions\":[\"delivery\"],\"price\":\"$$\",\"location\":{\"address1\":\"750 E Pratt St\",\"address2\":\"\",\"address3\":\"\",\"city\":\"Baltimore\",\"zip_code\":\"21202\",\"country\":\"US\",\"state\":\"MD\",\"display_address\":[\"750 E Pratt St\",\"Baltimore, MD 21202\"]},\"phone\":\"+14105285373\",\"display_phone\":\"(410) 528-5373\",\"distance\":1302.9258727973},{\"id\":\"BhnCaqbJtWrC36eVxlewSw\",\"alias\":\"l-p-steamers-baltimore\",\"name\":\"L P Steamers\",\"image_url\":\"https:\\\\/\\\\/s3-media3.fl.yelpcdn.com\\\\/bphoto\\\\/Ctttm9U_1pCFAtAlKr8ujw\\\\/o.jpg\",\"is_closed\":false,\"url\":\"https:\\\\/\\\\/www.yelp.com\\\\/biz\\\\/l-p-steamers-baltimore?adjust_creative=dDrgJ5jr3huSDkINiLtKBw&utm_campaign=yelp_api_v3&utm_medium=api_v3_business_search&utm_source=dDrgJ5jr3huSDkINiLtKBw\",\"review_count\":1847,\"categories\":[{\"alias\":\"seafood\",\"title\":\"Seafood\"}],\"rating\":4.0,\"coordinates\":{\"latitude\":39.27093,\"longitude\":-76.59861},\"transactions\":[\"delivery\"],\"price\":\"$$\",\"location\":{\"address1\":\"1100 E Fort Ave\",\"address2\":\"\",\"address3\":\"\",\"city\":\"Baltimore\",\"zip_code\":\"21230\",\"country\":\"US\",\"state\":\"MD\",\"display_address\":[\"1100 E Fort Ave\",\"Baltimore, MD 21230\"]},\"phone\":\"+14105769294\",\"display_phone\":\"(410) 576-9294\",\"distance\":2360.6432041636},{\"id\":\"sUzGTfR81JKDBZlABjgtMQ\",\"alias\":\"masons-famous-lobster-rolls-harborplace-baltimore\",\"name\":\"Mason\\'s Famous Lobster Rolls - Harborplace\",\"image_url\":\"https:\\\\/\\\\/s3-media4.fl.yelpcdn.com\\\\/bphoto\\\\/GCL1gRFMI1mnM9qN-Yro5Q\\\\/o.jpg\",\"is_closed\":false,\"url\":\"https:\\\\/\\\\/www.yelp.com\\\\/biz\\\\/masons-famous-lobster-rolls-harborplace-baltimore?adjust_creative=dDrgJ5jr3huSDkINiLtKBw&utm_campaign=yelp_api_v3&utm_medium=api_v3_business_search&utm_source=dDrgJ5jr3huSDkINiLtKBw\",\"review_count\":224,\"categories\":[{\"alias\":\"seafood\",\"title\":\"Seafood\"},{\"alias\":\"sandwiches\",\"title\":\"Sandwiches\"}],\"rating\":4.0,\"coordinates\":{\"latitude\":39.28619,\"longitude\":-76.61099},\"transactions\":[\"pickup\",\"delivery\"],\"price\":\"$$\",\"location\":{\"address1\":\"201 E Pratt St\",\"address2\":null,\"address3\":\"\",\"city\":\"Baltimore\",\"zip_code\":\"21202\",\"country\":\"US\",\"state\":\"MD\",\"display_address\":[\"201 E Pratt St\",\"Baltimore, MD 21202\"]},\"phone\":\"+14434539664\",\"display_phone\":\"(443) 453-9664\",\"distance\":811.9000855589},{\"id\":\"VLGdENTqjFJuCjg1SbW7_g\",\"alias\":\"nicks-fish-house-baltimore\",\"name\":\"Nicks Fish House\",\"image_url\":\"https:\\\\/\\\\/s3-media3.fl.yelpcdn.com\\\\/bphoto\\\\/_oQF05GKdQFz2QuZsxvffQ\\\\/o.jpg\",\"is_closed\":false,\"url\":\"https:\\\\/\\\\/www.yelp.com\\\\/biz\\\\/nicks-fish-house-baltimore?adjust_creative=dDrgJ5jr3huSDkINiLtKBw&utm_campaign=yelp_api_v3&utm_medium=api_v3_business_search&utm_source=dDrgJ5jr3huSDkINiLtKBw\",\"review_count\":1059,\"categories\":[{\"alias\":\"seafood\",\"title\":\"Seafood\"}],\"rating\":4.0,\"coordinates\":{\"latitude\":39.26036,\"longitude\":-76.61421},\"transactions\":[\"delivery\"],\"price\":\"$$\",\"location\":{\"address1\":\"2600 Insulator Dr\",\"address2\":null,\"address3\":\"\",\"city\":\"Baltimore\",\"zip_code\":\"21230\",\"country\":\"US\",\"state\":\"MD\",\"display_address\":[\"2600 Insulator Dr\",\"Baltimore, MD 21230\"]},\"phone\":\"+14103474123\",\"display_phone\":\"(410) 347-4123\",\"distance\":2671.6957002144},{\"id\":\"0w8Gipb562gV5ERnmsE-8Q\",\"alias\":\"g-and-m-restaurant-and-lounge-linthicum-heights-7\",\"name\":\"G & M Restaurant & Lounge\",\"image_url\":\"https:\\\\/\\\\/s3-media1.fl.yelpcdn.com\\\\/bphoto\\\\/C1a_HbZsIVUSnFO5HtjA_A\\\\/o.jpg\",\"is_closed\":false,\"url\":\"https:\\\\/\\\\/www.yelp.com\\\\/biz\\\\/g-and-m-restaurant-and-lounge-linthicum-heights-7?adjust_creative=dDrgJ5jr3huSDkINiLtKBw&utm_campaign=yelp_api_v3&utm_medium=api_v3_business_search&utm_source=dDrgJ5jr3huSDkINiLtKBw\",\"review_count\":3107,\"categories\":[{\"alias\":\"seafood\",\"title\":\"Seafood\"}],\"rating\":3.5,\"coordinates\":{\"latitude\":39.22503,\"longitude\":-76.66581},\"transactions\":[\"delivery\"],\"price\":\"$$\",\"location\":{\"address1\":\"804 N Hammonds Ferry Rd\",\"address2\":\"\",\"address3\":\"\",\"city\":\"Linthicum Heights\",\"zip_code\":\"21090\",\"country\":\"US\",\"state\":\"MD\",\"display_address\":[\"804 N Hammonds Ferry Rd\",\"Linthicum Heights, MD 21090\"]},\"phone\":\"+14106361777\",\"display_phone\":\"(410) 636-1777\",\"distance\":7669.24738249},{\"id\":\"UplfpgvI5BfuDjtolDrmsA\",\"alias\":\"blackwall-hitch-baltimore\",\"name\":\"Blackwall Hitch\",\"image_url\":\"https:\\\\/\\\\/s3-media2.fl.yelpcdn.com\\\\/bphoto\\\\/i0qW4FAidBq7-2NP2YSngw\\\\/o.jpg\",\"is_closed\":false,\"url\":\"https:\\\\/\\\\/www.yelp.com\\\\/biz\\\\/blackwall-hitch-baltimore?adjust_creative=dDrgJ5jr3huSDkINiLtKBw&utm_campaign=yelp_api_v3&utm_medium=api_v3_business_search&utm_source=dDrgJ5jr3huSDkINiLtKBw\",\"review_count\":764,\"categories\":[{\"alias\":\"newamerican\",\"title\":\"American (New)\"},{\"alias\":\"seafood\",\"title\":\"Seafood\"},{\"alias\":\"cocktailbars\",\"title\":\"Cocktail Bars\"}],\"rating\":4.0,\"coordinates\":{\"latitude\":39.287143,\"longitude\":-76.60606},\"transactions\":[],\"price\":\"$$\",\"location\":{\"address1\":\"700 E Pratt St\",\"address2\":null,\"address3\":\"\",\"city\":\"Baltimore\",\"zip_code\":\"21202\",\"country\":\"US\",\"state\":\"MD\",\"display_address\":[\"700 E Pratt St\",\"Baltimore, MD 21202\"]},\"phone\":\"+14437597176\",\"display_phone\":\"(443) 759-7176\",\"distance\":1258.8604620672},{\"id\":\"NQu0GgFMcAB6ucmhSNpcSQ\",\"alias\":\"phillips-seafood-baltimore\",\"name\":\"Phillips Seafood\",\"image_url\":\"https:\\\\/\\\\/s3-media2.fl.yelpcdn.com\\\\/bphoto\\\\/aTT9fcTZwYARAIQZpue71A\\\\/o.jpg\",\"is_closed\":false,\"url\":\"https:\\\\/\\\\/www.yelp.com\\\\/biz\\\\/phillips-seafood-baltimore?adjust_creative=dDrgJ5jr3huSDkINiLtKBw&utm_campaign=yelp_api_v3&utm_medium=api_v3_business_search&utm_source=dDrgJ5jr3huSDkINiLtKBw\",\"review_count\":1772,\"categories\":[{\"alias\":\"seafood\",\"title\":\"Seafood\"},{\"alias\":\"bars\",\"title\":\"Bars\"}],\"rating\":3.5,\"coordinates\":{\"latitude\":39.2863859256,\"longitude\":-76.6073408694},\"transactions\":[],\"price\":\"$$\",\"location\":{\"address1\":\"601 E Pratt St\",\"address2\":\"\",\"address3\":\"\",\"city\":\"Baltimore\",\"zip_code\":\"21202\",\"country\":\"US\",\"state\":\"MD\",\"display_address\":[\"601 E Pratt St\",\"Baltimore, MD 21202\"]},\"phone\":\"+14106856600\",\"display_phone\":\"(410) 685-6600\",\"distance\":1119.0456134231},{\"id\":\"Uq4zpk65ZFCq0ItSf1-3uQ\",\"alias\":\"kocos-pub-baltimore\",\"name\":\"Koco\\'s Pub\",\"image_url\":\"https:\\\\/\\\\/s3-media2.fl.yelpcdn.com\\\\/bphoto\\\\/EJk0qZG3D7LacO2XsuaArQ\\\\/o.jpg\",\"is_closed\":false,\"url\":\"https:\\\\/\\\\/www.yelp.com\\\\/biz\\\\/kocos-pub-baltimore?adjust_creative=dDrgJ5jr3huSDkINiLtKBw&utm_campaign=yelp_api_v3&utm_medium=api_v3_business_search&utm_source=dDrgJ5jr3huSDkINiLtKBw\",\"review_count\":680,\"categories\":[{\"alias\":\"pubs\",\"title\":\"Pubs\"},{\"alias\":\"seafood\",\"title\":\"Seafood\"},{\"alias\":\"sandwiches\",\"title\":\"Sandwiches\"}],\"rating\":4.5,\"coordinates\":{\"latitude\":39.33853,\"longitude\":-76.57317},\"transactions\":[\"delivery\"],\"price\":\"$$$\",\"location\":{\"address1\":\"4301 Harford Rd\",\"address2\":\"\",\"address3\":\"\",\"city\":\"Baltimore\",\"zip_code\":\"21214\",\"country\":\"US\",\"state\":\"MD\",\"display_address\":[\"4301 Harford Rd\",\"Baltimore, MD 21214\"]},\"phone\":\"+14104263519\",\"display_phone\":\"(410) 426-3519\",\"distance\":7266.1123303063},{\"id\":\"p_XPpHiZbdOccx2jFUgZJA\",\"alias\":\"the-local-oyster-baltimore-5\",\"name\":\"The Local Oyster\",\"image_url\":\"https:\\\\/\\\\/s3-media2.fl.yelpcdn.com\\\\/bphoto\\\\/7gYFF0T_vvKnBpe8fKU6_A\\\\/o.jpg\",\"is_closed\":false,\"url\":\"https:\\\\/\\\\/www.yelp.com\\\\/biz\\\\/the-local-oyster-baltimore-5?adjust_creative=dDrgJ5jr3huSDkINiLtKBw&utm_campaign=yelp_api_v3&utm_medium=api_v3_business_search&utm_source=dDrgJ5jr3huSDkINiLtKBw\",\"review_count\":251,\"categories\":[{\"alias\":\"seafood\",\"title\":\"Seafood\"},{\"alias\":\"wine_bars\",\"title\":\"Wine Bars\"},{\"alias\":\"beerbar\",\"title\":\"Beer Bar\"}],\"rating\":4.0,\"coordinates\":{\"latitude\":39.2958288,\"longitude\":-76.6188912},\"transactions\":[],\"price\":\"$$\",\"location\":{\"address1\":\"520 Park Ave\",\"address2\":null,\"address3\":\"\",\"city\":\"Baltimore\",\"zip_code\":\"21211\",\"country\":\"US\",\"state\":\"MD\",\"display_address\":[\"520 Park Ave\",\"Baltimore, MD 21211\"]},\"phone\":\"+18447482537\",\"display_phone\":\"(844) 748-2537\",\"distance\":1299.4762092908},{\"id\":\"UmXaCo_4O-nkvPN1bdfawQ\",\"alias\":\"conrads-crabs-and-seafood-market-parkville-parkville\",\"name\":\"Conrad\\'s Crabs & Seafood Market - Parkville\",\"image_url\":\"https:\\\\/\\\\/s3-media2.fl.yelpcdn.com\\\\/bphoto\\\\/eNWmDqRjzJIVqhcLPmdDSQ\\\\/o.jpg\",\"is_closed\":false,\"url\":\"https:\\\\/\\\\/www.yelp.com\\\\/biz\\\\/conrads-crabs-and-seafood-market-parkville-parkville?adjust_creative=dDrgJ5jr3huSDkINiLtKBw&utm_campaign=yelp_api_v3&utm_medium=api_v3_business_search&utm_source=dDrgJ5jr3huSDkINiLtKBw\",\"review_count\":240,\"categories\":[{\"alias\":\"seafoodmarkets\",\"title\":\"Seafood Markets\"}],\"rating\":4.0,\"coordinates\":{\"latitude\":39.3983851,\"longitude\":-76.5614121},\"transactions\":[\"pickup\",\"delivery\"],\"price\":\"$$\",\"location\":{\"address1\":\"1720 E Joppa Rd\",\"address2\":\"\",\"address3\":\"\",\"city\":\"Parkville\",\"zip_code\":\"21234\",\"country\":\"US\",\"state\":\"MD\",\"display_address\":[\"1720 E Joppa Rd\",\"Parkville, MD 21234\"]},\"phone\":\"+14108821515\",\"display_phone\":\"(410) 882-1515\",\"distance\":13663.2774464782},{\"id\":\"o-wnP0RZYdSwupsaA5yLvA\",\"alias\":\"riverside-taphouse-baltimore\",\"name\":\"Riverside Taphouse\",\"image_url\":\"https:\\\\/\\\\/s3-media2.fl.yelpcdn.com\\\\/bphoto\\\\/OA4hBCuw9tHIHTCvwG0ViQ\\\\/o.jpg\",\"is_closed\":false,\"url\":\"https:\\\\/\\\\/www.yelp.com\\\\/biz\\\\/riverside-taphouse-baltimore?adjust_creative=dDrgJ5jr3huSDkINiLtKBw&utm_campaign=yelp_api_v3&utm_medium=api_v3_business_search&utm_source=dDrgJ5jr3huSDkINiLtKBw\",\"review_count\":55,\"categories\":[{\"alias\":\"tradamerican\",\"title\":\"American (Traditional)\"},{\"alias\":\"wine_bars\",\"title\":\"Wine Bars\"},{\"alias\":\"breakfast_brunch\",\"title\":\"Breakfast & Brunch\"}],\"rating\":4.5,\"coordinates\":{\"latitude\":39.2717405,\"longitude\":-76.61176417},\"transactions\":[\"delivery\"],\"price\":null,\"location\":{\"address1\":\"1542 Light St\",\"address2\":\"\",\"address3\":null,\"city\":\"Baltimore\",\"zip_code\":\"21230\",\"country\":\"US\",\"state\":\"MD\",\"display_address\":[\"1542 Light St\",\"Baltimore, MD 21230\"]},\"phone\":\"+16672102110\",\"display_phone\":\"(667) 210-2110\",\"distance\":1552.2184338218},{\"id\":\"d8hR3Vr27uoYMXaK5PIW0w\",\"alias\":\"loch-bar-baltimore\",\"name\":\"Loch Bar\",\"image_url\":\"https:\\\\/\\\\/s3-media1.fl.yelpcdn.com\\\\/bphoto\\\\/9Svi9Toe-RyXaeO2O8VIVw\\\\/o.jpg\",\"is_closed\":false,\"url\":\"https:\\\\/\\\\/www.yelp.com\\\\/biz\\\\/loch-bar-baltimore?adjust_creative=dDrgJ5jr3huSDkINiLtKBw&utm_campaign=yelp_api_v3&utm_medium=api_v3_business_search&utm_source=dDrgJ5jr3huSDkINiLtKBw\",\"review_count\":486,\"categories\":[{\"alias\":\"seafood\",\"title\":\"Seafood\"},{\"alias\":\"raw_food\",\"title\":\"Live\\\\/Raw Food\"},{\"alias\":\"cocktailbars\",\"title\":\"Cocktail Bars\"}],\"rating\":4.0,\"coordinates\":{\"latitude\":39.282368,\"longitude\":-76.602319},\"transactions\":[\"delivery\"],\"price\":\"$$$\",\"location\":{\"address1\":\"240 International Dr\",\"address2\":\"\",\"address3\":\"\",\"city\":\"Baltimore\",\"zip_code\":\"21202\",\"country\":\"US\",\"state\":\"MD\",\"display_address\":[\"240 International Dr\",\"Baltimore, MD 21202\"]},\"phone\":\"+14439618949\",\"display_phone\":\"(443) 961-8949\",\"distance\":1537.1607977102},{\"id\":\"uP4pCpjzUGMDIRzMtHDCkg\",\"alias\":\"old-bay-seafood-baltimore\",\"name\":\"Old Bay Seafood\",\"image_url\":\"https:\\\\/\\\\/s3-media1.fl.yelpcdn.com\\\\/bphoto\\\\/ofor5U1IhOtbU5BTZ_ZghA\\\\/o.jpg\",\"is_closed\":false,\"url\":\"https:\\\\/\\\\/www.yelp.com\\\\/biz\\\\/old-bay-seafood-baltimore?adjust_creative=dDrgJ5jr3huSDkINiLtKBw&utm_campaign=yelp_api_v3&utm_medium=api_v3_business_search&utm_source=dDrgJ5jr3huSDkINiLtKBw\",\"review_count\":6,\"categories\":[{\"alias\":\"seafood\",\"title\":\"Seafood\"}],\"rating\":4.0,\"coordinates\":{\"latitude\":39.283957993,\"longitude\":-76.6215114534},\"transactions\":[],\"price\":\"$$\",\"location\":{\"address1\":\"333 W Camden St\",\"address2\":\"\",\"address3\":\"Oriole Park at Camden Yards\",\"city\":\"Baltimore\",\"zip_code\":\"21201\",\"country\":\"US\",\"state\":\"MD\",\"display_address\":[\"333 W Camden St\",\"Oriole Park at Camden Yards\",\"Baltimore, MD 21201\"]},\"phone\":\"+18888482473\",\"display_phone\":\"(888) 848-2473\",\"distance\":130.1431476411},{\"id\":\"4kcxp4lHc-gcKTCqvb0Edg\",\"alias\":\"jimmys-famous-seafood-baltimore\",\"name\":\"Jimmy\\'s Famous Seafood\",\"image_url\":\"https:\\\\/\\\\/s3-media1.fl.yelpcdn.com\\\\/bphoto\\\\/sSgUI-xwzDcJ10AB2ii-bA\\\\/o.jpg\",\"is_closed\":false,\"url\":\"https:\\\\/\\\\/www.yelp.com\\\\/biz\\\\/jimmys-famous-seafood-baltimore?adjust_creative=dDrgJ5jr3huSDkINiLtKBw&utm_campaign=yelp_api_v3&utm_medium=api_v3_business_search&utm_source=dDrgJ5jr3huSDkINiLtKBw\",\"review_count\":1662,\"categories\":[{\"alias\":\"seafood\",\"title\":\"Seafood\"},{\"alias\":\"steak\",\"title\":\"Steakhouses\"}],\"rating\":3.5,\"coordinates\":{\"latitude\":39.272773,\"longitude\":-76.534789},\"transactions\":[\"pickup\",\"delivery\"],\"price\":\"$$\",\"location\":{\"address1\":\"6526 Holabird Ave\",\"address2\":\"\",\"address3\":\"\",\"city\":\"Baltimore\",\"zip_code\":\"21224\",\"country\":\"US\",\"state\":\"MD\",\"display_address\":[\"6526 Holabird Ave\",\"Baltimore, MD 21224\"]},\"phone\":\"+14106334040\",\"display_phone\":\"(410) 633-4040\",\"distance\":7453.2690873832},{\"id\":\"6am8TZAFnvND52MOz-Yctg\",\"alias\":\"mamas-on-the-half-shell-baltimore\",\"name\":\"Mama\\'s On The Half Shell\",\"image_url\":\"https:\\\\/\\\\/s3-media2.fl.yelpcdn.com\\\\/bphoto\\\\/HWY8OFLdgmlZt-5Q6ny4ig\\\\/o.jpg\",\"is_closed\":false,\"url\":\"https:\\\\/\\\\/www.yelp.com\\\\/biz\\\\/mamas-on-the-half-shell-baltimore?adjust_creative=dDrgJ5jr3huSDkINiLtKBw&utm_campaign=yelp_api_v3&utm_medium=api_v3_business_search&utm_source=dDrgJ5jr3huSDkINiLtKBw\",\"review_count\":1387,\"categories\":[{\"alias\":\"bars\",\"title\":\"Bars\"},{\"alias\":\"seafood\",\"title\":\"Seafood\"},{\"alias\":\"breakfast_brunch\",\"title\":\"Breakfast & Brunch\"}],\"rating\":4.0,\"coordinates\":{\"latitude\":39.2799001421,\"longitude\":-76.5752147},\"transactions\":[\"pickup\",\"delivery\"],\"price\":\"$$\",\"location\":{\"address1\":\"2901 O Donnell St\",\"address2\":\"\",\"address3\":\"\",\"city\":\"Baltimore\",\"zip_code\":\"21224\",\"country\":\"US\",\"state\":\"MD\",\"display_address\":[\"2901 O Donnell St\",\"Baltimore, MD 21224\"]},\"phone\":\"+14102763160\",\"display_phone\":\"(410) 276-3160\",\"distance\":3886.0225551993},{\"id\":\"Kh1XJP54vra02w7vS5rRhg\",\"alias\":\"clock-restoration-baltimore\",\"name\":\"CLOCK Restoration\",\"image_url\":\"https:\\\\/\\\\/s3-media4.fl.yelpcdn.com\\\\/bphoto\\\\/55ytTjhnJ8ka0O4ccaV6aA\\\\/o.jpg\",\"is_closed\":false,\"url\":\"https:\\\\/\\\\/www.yelp.com\\\\/biz\\\\/clock-restoration-baltimore?adjust_creative=dDrgJ5jr3huSDkINiLtKBw&utm_campaign=yelp_api_v3&utm_medium=api_v3_business_search&utm_source=dDrgJ5jr3huSDkINiLtKBw\",\"review_count\":80,\"categories\":[{\"alias\":\"cocktailbars\",\"title\":\"Cocktail Bars\"},{\"alias\":\"speakeasies\",\"title\":\"Speakeasies\"},{\"alias\":\"newamerican\",\"title\":\"American (New)\"}],\"rating\":4.5,\"coordinates\":{\"latitude\":39.28807,\"longitude\":-76.61196},\"transactions\":[\"pickup\",\"delivery\",\"restaurant_reservation\"],\"price\":null,\"location\":{\"address1\":\"31 S Calvert St\",\"address2\":\"Fl 6\",\"address3\":\"The QG\",\"city\":\"Baltimore\",\"zip_code\":\"21202\",\"country\":\"US\",\"state\":\"MD\",\"display_address\":[\"31 S Calvert St\",\"Fl 6\",\"The QG\",\"Baltimore, MD 21202\"]},\"phone\":\"+14432031888\",\"display_phone\":\"(443) 203-1888\",\"distance\":816.4043026531},{\"id\":\"AjMBJPjnaGIVhBd08gpjvA\",\"alias\":\"the-water-street-tavern-and-key-west-patio-bar-baltimore\",\"name\":\"The Water Street Tavern & Key West Patio Bar\",\"image_url\":\"https:\\\\/\\\\/s3-media2.fl.yelpcdn.com\\\\/bphoto\\\\/yWwgl1xdcoRV_uVrDjykRw\\\\/o.jpg\",\"is_closed\":false,\"url\":\"https:\\\\/\\\\/www.yelp.com\\\\/biz\\\\/the-water-street-tavern-and-key-west-patio-bar-baltimore?adjust_creative=dDrgJ5jr3huSDkINiLtKBw&utm_campaign=yelp_api_v3&utm_medium=api_v3_business_search&utm_source=dDrgJ5jr3huSDkINiLtKBw\",\"review_count\":295,\"categories\":[{\"alias\":\"tradamerican\",\"title\":\"American (Traditional)\"},{\"alias\":\"bars\",\"title\":\"Bars\"},{\"alias\":\"seafood\",\"title\":\"Seafood\"}],\"rating\":4.0,\"coordinates\":{\"latitude\":39.288553,\"longitude\":-76.613303},\"transactions\":[\"delivery\"],\"price\":\"$$\",\"location\":{\"address1\":\"102 Water St\",\"address2\":\"\",\"address3\":\"\",\"city\":\"Baltimore\",\"zip_code\":\"21202\",\"country\":\"US\",\"state\":\"MD\",\"display_address\":[\"102 Water St\",\"Baltimore, MD 21202\"]},\"phone\":\"+14106059495\",\"display_phone\":\"(410) 605-9495\",\"distance\":756.1063497668},{\"id\":\"TPQmNAM2g1vmm2xCfhyEJw\",\"alias\":\"pratt-street-ale-house-baltimore\",\"name\":\"Pratt Street Ale House\",\"image_url\":\"https:\\\\/\\\\/s3-media4.fl.yelpcdn.com\\\\/bphoto\\\\/DA0K3GfDSVk3HKxO7gM4AQ\\\\/o.jpg\",\"is_closed\":false,\"url\":\"https:\\\\/\\\\/www.yelp.com\\\\/biz\\\\/pratt-street-ale-house-baltimore?adjust_creative=dDrgJ5jr3huSDkINiLtKBw&utm_campaign=yelp_api_v3&utm_medium=api_v3_business_search&utm_source=dDrgJ5jr3huSDkINiLtKBw\",\"review_count\":893,\"categories\":[{\"alias\":\"pubs\",\"title\":\"Pubs\"},{\"alias\":\"tradamerican\",\"title\":\"American (Traditional)\"},{\"alias\":\"breweries\",\"title\":\"Breweries\"}],\"rating\":3.5,\"coordinates\":{\"latitude\":39.2865982056,\"longitude\":-76.6181564331},\"transactions\":[\"delivery\",\"pickup\"],\"price\":\"$$\",\"location\":{\"address1\":\"206 W Pratt St\",\"address2\":\"\",\"address3\":\"\",\"city\":\"Baltimore\",\"zip_code\":\"21201\",\"country\":\"US\",\"state\":\"MD\",\"display_address\":[\"206 W Pratt St\",\"Baltimore, MD 21201\"]},\"phone\":\"+14102448900\",\"display_phone\":\"(410) 244-8900\",\"distance\":311.0141915513},{\"id\":\"pJuoa35eDPRXLf7kUbpMTg\",\"alias\":\"the-choptank-baltimore\",\"name\":\"The Choptank\",\"image_url\":\"https:\\\\/\\\\/s3-media4.fl.yelpcdn.com\\\\/bphoto\\\\/_-hCf-2vWk_n0DkfhH2AYA\\\\/o.jpg\",\"is_closed\":false,\"url\":\"https:\\\\/\\\\/www.yelp.com\\\\/biz\\\\/the-choptank-baltimore?adjust_creative=dDrgJ5jr3huSDkINiLtKBw&utm_campaign=yelp_api_v3&utm_medium=api_v3_business_search&utm_source=dDrgJ5jr3huSDkINiLtKBw\",\"review_count\":330,\"categories\":[{\"alias\":\"seafood\",\"title\":\"Seafood\"}],\"rating\":4.0,\"coordinates\":{\"latitude\":39.283338,\"longitude\":-76.593321},\"transactions\":[],\"price\":\"$$$\",\"location\":{\"address1\":\"1641 Aliceanna St\",\"address2\":null,\"address3\":\"\",\"city\":\"Baltimore\",\"zip_code\":\"21231\",\"country\":\"US\",\"state\":\"MD\",\"display_address\":[\"1641 Aliceanna St\",\"Baltimore, MD 21231\"]},\"phone\":\"+14437073364\",\"display_phone\":\"(443) 707-3364\",\"distance\":2300.5406137776},{\"id\":\"u4vKwc4p4HY2lT0Lneaz0w\",\"alias\":\"one-eyed-mikes-baltimore-2\",\"name\":\"One Eyed Mike\\'s\",\"image_url\":\"https:\\\\/\\\\/s3-media2.fl.yelpcdn.com\\\\/bphoto\\\\/0LSacZQspS4JqAuEvs_Dzg\\\\/o.jpg\",\"is_closed\":false,\"url\":\"https:\\\\/\\\\/www.yelp.com\\\\/biz\\\\/one-eyed-mikes-baltimore-2?adjust_creative=dDrgJ5jr3huSDkINiLtKBw&utm_campaign=yelp_api_v3&utm_medium=api_v3_business_search&utm_source=dDrgJ5jr3huSDkINiLtKBw\",\"review_count\":262,\"categories\":[{\"alias\":\"tradamerican\",\"title\":\"American (Traditional)\"},{\"alias\":\"cocktailbars\",\"title\":\"Cocktail Bars\"},{\"alias\":\"seafood\",\"title\":\"Seafood\"}],\"rating\":4.0,\"coordinates\":{\"latitude\":39.28315,\"longitude\":-76.5955},\"transactions\":[\"delivery\",\"pickup\"],\"price\":\"$$\",\"location\":{\"address1\":\"708 S Bond St\",\"address2\":\"\",\"address3\":\"\",\"city\":\"Baltimore\",\"zip_code\":\"21231\",\"country\":\"US\",\"state\":\"MD\",\"display_address\":[\"708 S Bond St\",\"Baltimore, MD 21231\"]},\"phone\":\"+14103270445\",\"display_phone\":\"(410) 327-0445\",\"distance\":2119.4537800767},{\"id\":\"tJktBaxOjKN88YZxVLP_zQ\",\"alias\":\"dudas-tavern-baltimore\",\"name\":\"Duda\\'s Tavern\",\"image_url\":\"https:\\\\/\\\\/s3-media1.fl.yelpcdn.com\\\\/bphoto\\\\/FU-7aLMB0PCiSNkdN-2eHg\\\\/o.jpg\",\"is_closed\":false,\"url\":\"https:\\\\/\\\\/www.yelp.com\\\\/biz\\\\/dudas-tavern-baltimore?adjust_creative=dDrgJ5jr3huSDkINiLtKBw&utm_campaign=yelp_api_v3&utm_medium=api_v3_business_search&utm_source=dDrgJ5jr3huSDkINiLtKBw\",\"review_count\":197,\"categories\":[{\"alias\":\"divebars\",\"title\":\"Dive Bars\"},{\"alias\":\"tradamerican\",\"title\":\"American (Traditional)\"}],\"rating\":4.0,\"coordinates\":{\"latitude\":39.2811499,\"longitude\":-76.59487},\"transactions\":[\"delivery\"],\"price\":\"$$\",\"location\":{\"address1\":\"1600 Thames St\",\"address2\":\"\",\"address3\":\"\",\"city\":\"Baltimore\",\"zip_code\":\"21231\",\"country\":\"US\",\"state\":\"MD\",\"display_address\":[\"1600 Thames St\",\"Baltimore, MD 21231\"]},\"phone\":\"+14102769719\",\"display_phone\":\"(410) 276-9719\",\"distance\":2193.2894713101},{\"id\":\"Wg0X79U295H69BC3Fnqd-w\",\"alias\":\"the-corner-bistro-and-wine-bar-baltimore\",\"name\":\"The Corner Bistro and Wine Bar\",\"image_url\":\"https:\\\\/\\\\/s3-media1.fl.yelpcdn.com\\\\/bphoto\\\\/D8SRbE2wgEfhjxWu27nhvw\\\\/o.jpg\",\"is_closed\":false,\"url\":\"https:\\\\/\\\\/www.yelp.com\\\\/biz\\\\/the-corner-bistro-and-wine-bar-baltimore?adjust_creative=dDrgJ5jr3huSDkINiLtKBw&utm_campaign=yelp_api_v3&utm_medium=api_v3_business_search&utm_source=dDrgJ5jr3huSDkINiLtKBw\",\"review_count\":267,\"categories\":[{\"alias\":\"newamerican\",\"title\":\"American (New)\"},{\"alias\":\"wine_bars\",\"title\":\"Wine Bars\"}],\"rating\":4.5,\"coordinates\":{\"latitude\":39.285576,\"longitude\":-76.625679},\"transactions\":[\"delivery\",\"pickup\"],\"price\":\"$$\",\"location\":{\"address1\":\"213 Penn St\",\"address2\":\"\",\"address3\":\"\",\"city\":\"Baltimore\",\"zip_code\":\"21230\",\"country\":\"US\",\"state\":\"MD\",\"display_address\":[\"213 Penn St\",\"Baltimore, MD 21230\"]},\"phone\":\"+14107271155\",\"display_phone\":\"(410) 727-1155\",\"distance\":520.5188195661},{\"id\":\"dOheI_SVP_CYbgJVBu6KNA\",\"alias\":\"boatyard-bar-and-grill-annapolis\",\"name\":\"Boatyard Bar & Grill\",\"image_url\":\"https:\\\\/\\\\/s3-media3.fl.yelpcdn.com\\\\/bphoto\\\\/2zNUAMJkoN_9Ssrs7u7-dg\\\\/o.jpg\",\"is_closed\":false,\"url\":\"https:\\\\/\\\\/www.yelp.com\\\\/biz\\\\/boatyard-bar-and-grill-annapolis?adjust_creative=dDrgJ5jr3huSDkINiLtKBw&utm_campaign=yelp_api_v3&utm_medium=api_v3_business_search&utm_source=dDrgJ5jr3huSDkINiLtKBw\",\"review_count\":1663,\"categories\":[{\"alias\":\"seafood\",\"title\":\"Seafood\"},{\"alias\":\"breakfast_brunch\",\"title\":\"Breakfast & Brunch\"},{\"alias\":\"bars\",\"title\":\"Bars\"}],\"rating\":4.0,\"coordinates\":{\"latitude\":38.9714536071,\"longitude\":-76.4825074375},\"transactions\":[\"delivery\"],\"price\":\"$$\",\"location\":{\"address1\":\"400 Fourth St\",\"address2\":\"\",\"address3\":\"\",\"city\":\"Annapolis\",\"zip_code\":\"21403\",\"country\":\"US\",\"state\":\"MD\",\"display_address\":[\"400 Fourth St\",\"Annapolis, MD 21403\"]},\"phone\":\"+14102166206\",\"display_phone\":\"(410) 216-6206\",\"distance\":36767.4991761816},{\"id\":\"fdo4pqfSYjQyW5_-rElfew\",\"alias\":\"faidley-s-seafood-baltimore-2\",\"name\":\"Faidley\\\\u2019s Seafood\",\"image_url\":\"https:\\\\/\\\\/s3-media4.fl.yelpcdn.com\\\\/bphoto\\\\/7aCi2UOBeoKp8D20h7lKUA\\\\/o.jpg\",\"is_closed\":false,\"url\":\"https:\\\\/\\\\/www.yelp.com\\\\/biz\\\\/faidley-s-seafood-baltimore-2?adjust_creative=dDrgJ5jr3huSDkINiLtKBw&utm_campaign=yelp_api_v3&utm_medium=api_v3_business_search&utm_source=dDrgJ5jr3huSDkINiLtKBw\",\"review_count\":40,\"categories\":[{\"alias\":\"seafoodmarkets\",\"title\":\"Seafood Markets\"}],\"rating\":4.0,\"coordinates\":{\"latitude\":39.2916750623,\"longitude\":-76.6222456129},\"transactions\":[],\"price\":\"$\",\"location\":{\"address1\":\"203 N Paca St\",\"address2\":\"\",\"address3\":\"\",\"city\":\"Baltimore\",\"zip_code\":\"21201\",\"country\":\"US\",\"state\":\"MD\",\"display_address\":[\"203 N Paca St\",\"Baltimore, MD 21201\"]},\"phone\":\"+14107526461\",\"display_phone\":\"(410) 752-6461\",\"distance\":855.5353490947},{\"id\":\"slNnWC_GiFzf4v60BLmz0A\",\"alias\":\"nicks-farm-and-crab-market-baltimore\",\"name\":\"Nick\\'s Farm & Crab Market\",\"image_url\":\"https:\\\\/\\\\/s3-media4.fl.yelpcdn.com\\\\/bphoto\\\\/B96bHLMYWGxGidHYJ278uA\\\\/o.jpg\",\"is_closed\":false,\"url\":\"https:\\\\/\\\\/www.yelp.com\\\\/biz\\\\/nicks-farm-and-crab-market-baltimore?adjust_creative=dDrgJ5jr3huSDkINiLtKBw&utm_campaign=yelp_api_v3&utm_medium=api_v3_business_search&utm_source=dDrgJ5jr3huSDkINiLtKBw\",\"review_count\":62,\"categories\":[{\"alias\":\"seafoodmarkets\",\"title\":\"Seafood Markets\"},{\"alias\":\"seafood\",\"title\":\"Seafood\"}],\"rating\":4.5,\"coordinates\":{\"latitude\":39.2695,\"longitude\":-76.68277},\"transactions\":[],\"price\":\"$$\",\"location\":{\"address1\":\"3720 Southwestern Blvd\",\"address2\":\"\",\"address3\":\"\",\"city\":\"Baltimore\",\"zip_code\":\"21229\",\"country\":\"US\",\"state\":\"MD\",\"display_address\":[\"3720 Southwestern Blvd\",\"Baltimore, MD 21229\"]},\"phone\":\"+14105251022\",\"display_phone\":\"(410) 525-1022\",\"distance\":5648.9292110491},{\"id\":\"TL34QOmDmMtJmsabvPLErg\",\"alias\":\"annabel-lee-tavern-baltimore\",\"name\":\"Annabel Lee Tavern\",\"image_url\":\"https:\\\\/\\\\/s3-media2.fl.yelpcdn.com\\\\/bphoto\\\\/dh6k0b51-GEggohxYvJc3A\\\\/o.jpg\",\"is_closed\":false,\"url\":\"https:\\\\/\\\\/www.yelp.com\\\\/biz\\\\/annabel-lee-tavern-baltimore?adjust_creative=dDrgJ5jr3huSDkINiLtKBw&utm_campaign=yelp_api_v3&utm_medium=api_v3_business_search&utm_source=dDrgJ5jr3huSDkINiLtKBw\",\"review_count\":647,\"categories\":[{\"alias\":\"pubs\",\"title\":\"Pubs\"},{\"alias\":\"newamerican\",\"title\":\"American (New)\"}],\"rating\":4.5,\"coordinates\":{\"latitude\":39.28538,\"longitude\":-76.56961},\"transactions\":[\"delivery\",\"pickup\",\"restaurant_reservation\"],\"price\":\"$$\",\"location\":{\"address1\":\"601 S Clinton St\",\"address2\":\"\",\"address3\":\"\",\"city\":\"Baltimore\",\"zip_code\":\"21224\",\"country\":\"US\",\"state\":\"MD\",\"display_address\":[\"601 S Clinton St\",\"Baltimore, MD 21224\"]},\"phone\":\"+14105222929\",\"display_phone\":\"(410) 522-2929\",\"distance\":4338.793459358},{\"id\":\"pU2MSGAqJPuLhSl_UNOx6Q\",\"alias\":\"box-hill-crab-cakes-abingdon-2\",\"name\":\"Box Hill Crab Cakes\",\"image_url\":\"https:\\\\/\\\\/s3-media2.fl.yelpcdn.com\\\\/bphoto\\\\/bLRbfhFgF92Jz4Ka0CRdbA\\\\/o.jpg\",\"is_closed\":false,\"url\":\"https:\\\\/\\\\/www.yelp.com\\\\/biz\\\\/box-hill-crab-cakes-abingdon-2?adjust_creative=dDrgJ5jr3huSDkINiLtKBw&utm_campaign=yelp_api_v3&utm_medium=api_v3_business_search&utm_source=dDrgJ5jr3huSDkINiLtKBw\",\"review_count\":577,\"categories\":[{\"alias\":\"pizza\",\"title\":\"Pizza\"},{\"alias\":\"italian\",\"title\":\"Italian\"},{\"alias\":\"desserts\",\"title\":\"Desserts\"}],\"rating\":4.5,\"coordinates\":{\"latitude\":39.4792823916,\"longitude\":-76.3094583727},\"transactions\":[\"delivery\"],\"price\":\"$$\",\"location\":{\"address1\":\"2915 Emmorton Rd\",\"address2\":\"\",\"address3\":\"\",\"city\":\"Abingdon\",\"zip_code\":\"21009\",\"country\":\"US\",\"state\":\"MD\",\"display_address\":[\"2915 Emmorton Rd\",\"Abingdon, MD 21009\"]},\"phone\":\"+14105153662\",\"display_phone\":\"(410) 515-3662\",\"distance\":34396.7541162946},{\"id\":\"7lDhtcolamUZw6oP5V1ehw\",\"alias\":\"flash-crabcake-baltimore\",\"name\":\"Flash Crabcake\",\"image_url\":\"https:\\\\/\\\\/s3-media3.fl.yelpcdn.com\\\\/bphoto\\\\/qtaVukxwTld-i_O0lAz8mA\\\\/o.jpg\",\"is_closed\":false,\"url\":\"https:\\\\/\\\\/www.yelp.com\\\\/biz\\\\/flash-crabcake-baltimore?adjust_creative=dDrgJ5jr3huSDkINiLtKBw&utm_campaign=yelp_api_v3&utm_medium=api_v3_business_search&utm_source=dDrgJ5jr3huSDkINiLtKBw\",\"review_count\":28,\"categories\":[{\"alias\":\"foodtrucks\",\"title\":\"Food Trucks\"},{\"alias\":\"seafood\",\"title\":\"Seafood\"}],\"rating\":4.5,\"coordinates\":{\"latitude\":39.29578,\"longitude\":-76.62233},\"transactions\":[],\"price\":\"$\",\"location\":{\"address1\":\"\",\"address2\":\"\",\"address3\":\"\",\"city\":\"Baltimore\",\"zip_code\":\"21201\",\"country\":\"US\",\"state\":\"MD\",\"display_address\":[\"Baltimore, MD 21201\"]},\"phone\":\"+14103229143\",\"display_phone\":\"(410) 322-9143\",\"distance\":1355.1939600188},{\"id\":\"t0EA_fXewpQWfzWMrpNjIw\",\"alias\":\"peters-pour-house-baltimore\",\"name\":\"Peter\\'s Pour House\",\"image_url\":\"https:\\\\/\\\\/s3-media1.fl.yelpcdn.com\\\\/bphoto\\\\/c9kGcb-ue4C6dRIVQDb_TQ\\\\/o.jpg\",\"is_closed\":false,\"url\":\"https:\\\\/\\\\/www.yelp.com\\\\/biz\\\\/peters-pour-house-baltimore?adjust_creative=dDrgJ5jr3huSDkINiLtKBw&utm_campaign=yelp_api_v3&utm_medium=api_v3_business_search&utm_source=dDrgJ5jr3huSDkINiLtKBw\",\"review_count\":267,\"categories\":[{\"alias\":\"tradamerican\",\"title\":\"American (Traditional)\"},{\"alias\":\"pubs\",\"title\":\"Pubs\"},{\"alias\":\"breakfast_brunch\",\"title\":\"Breakfast & Brunch\"}],\"rating\":4.0,\"coordinates\":{\"latitude\":39.28841,\"longitude\":-76.61299},\"transactions\":[\"delivery\",\"pickup\"],\"price\":\"$$\",\"location\":{\"address1\":\"111 Mercer St\",\"address2\":null,\"address3\":\"\",\"city\":\"Baltimore\",\"zip_code\":\"21202\",\"country\":\"US\",\"state\":\"MD\",\"display_address\":[\"111 Mercer St\",\"Baltimore, MD 21202\"]},\"phone\":\"+14105395818\",\"display_phone\":\"(410) 539-5818\",\"distance\":766.1933425847},{\"id\":\"KrzRDovyIuAXTQ22TMU07w\",\"alias\":\"schultzs-crab-house-essex\",\"name\":\"Schultz\\'s Crab House\",\"image_url\":\"https:\\\\/\\\\/s3-media2.fl.yelpcdn.com\\\\/bphoto\\\\/aFJzyO_zvlpIkOGlqc4CTQ\\\\/o.jpg\",\"is_closed\":false,\"url\":\"https:\\\\/\\\\/www.yelp.com\\\\/biz\\\\/schultzs-crab-house-essex?adjust_creative=dDrgJ5jr3huSDkINiLtKBw&utm_campaign=yelp_api_v3&utm_medium=api_v3_business_search&utm_source=dDrgJ5jr3huSDkINiLtKBw\",\"review_count\":212,\"categories\":[{\"alias\":\"seafood\",\"title\":\"Seafood\"}],\"rating\":4.0,\"coordinates\":{\"latitude\":39.32194,\"longitude\":-76.4470599},\"transactions\":[\"delivery\"],\"price\":\"$$\",\"location\":{\"address1\":\"1732 Old Eastern Ave\",\"address2\":\"\",\"address3\":\"\",\"city\":\"Essex\",\"zip_code\":\"21221\",\"country\":\"US\",\"state\":\"MD\",\"display_address\":[\"1732 Old Eastern Ave\",\"Essex, MD 21221\"]},\"phone\":\"+14106871020\",\"display_phone\":\"(410) 687-1020\",\"distance\":15464.2110622201},{\"id\":\"UOm0ZYOXjocrWtXD2X53-g\",\"alias\":\"pappas-restaurant-parkville\",\"name\":\"Pappas Restaurant\",\"image_url\":\"https:\\\\/\\\\/s3-media4.fl.yelpcdn.com\\\\/bphoto\\\\/W6zsFj5Ro1SQPzNrqgHWng\\\\/o.jpg\",\"is_closed\":false,\"url\":\"https:\\\\/\\\\/www.yelp.com\\\\/biz\\\\/pappas-restaurant-parkville?adjust_creative=dDrgJ5jr3huSDkINiLtKBw&utm_campaign=yelp_api_v3&utm_medium=api_v3_business_search&utm_source=dDrgJ5jr3huSDkINiLtKBw\",\"review_count\":463,\"categories\":[{\"alias\":\"seafood\",\"title\":\"Seafood\"},{\"alias\":\"tradamerican\",\"title\":\"American (Traditional)\"},{\"alias\":\"sportsbars\",\"title\":\"Sports Bars\"}],\"rating\":3.5,\"coordinates\":{\"latitude\":39.38098,\"longitude\":-76.55913},\"transactions\":[\"delivery\"],\"price\":\"$$\",\"location\":{\"address1\":\"1725 Taylor Ave\",\"address2\":\"\",\"address3\":\"\",\"city\":\"Parkville\",\"zip_code\":\"21234\",\"country\":\"US\",\"state\":\"MD\",\"display_address\":[\"1725 Taylor Ave\",\"Parkville, MD 21234\"]},\"phone\":\"+14106614357\",\"display_phone\":\"(410) 661-4357\",\"distance\":11966.0394458021},{\"id\":\"L9AsG9KRoRBBSbeTpNh3Jw\",\"alias\":\"rusty-scupper-baltimore\",\"name\":\"Rusty Scupper\",\"image_url\":\"https:\\\\/\\\\/s3-media2.fl.yelpcdn.com\\\\/bphoto\\\\/NIwswWyAkPfASFd3EBxQEw\\\\/o.jpg\",\"is_closed\":false,\"url\":\"https:\\\\/\\\\/www.yelp.com\\\\/biz\\\\/rusty-scupper-baltimore?adjust_creative=dDrgJ5jr3huSDkINiLtKBw&utm_campaign=yelp_api_v3&utm_medium=api_v3_business_search&utm_source=dDrgJ5jr3huSDkINiLtKBw\",\"review_count\":1213,\"categories\":[{\"alias\":\"seafood\",\"title\":\"Seafood\"},{\"alias\":\"bars\",\"title\":\"Bars\"}],\"rating\":3.5,\"coordinates\":{\"latitude\":39.282148,\"longitude\":-76.607314},\"transactions\":[\"delivery\",\"pickup\"],\"price\":\"$$$\",\"location\":{\"address1\":\"402 Key Hwy\",\"address2\":\"\",\"address3\":\"\",\"city\":\"Baltimore\",\"zip_code\":\"21230\",\"country\":\"US\",\"state\":\"MD\",\"display_address\":[\"402 Key Hwy\",\"Baltimore, MD 21230\"]},\"phone\":\"+14107273678\",\"display_phone\":\"(410) 727-3678\",\"distance\":1117.0446443954},{\"id\":\"YpI30alA8TQmYtv6qVkEHw\",\"alias\":\"by-the-docks-restaurant-middle-river\",\"name\":\"By The Docks Restaurant\",\"image_url\":\"https:\\\\/\\\\/s3-media1.fl.yelpcdn.com\\\\/bphoto\\\\/4HaplOav2UoyO4CRBKcYyg\\\\/o.jpg\",\"is_closed\":false,\"url\":\"https:\\\\/\\\\/www.yelp.com\\\\/biz\\\\/by-the-docks-restaurant-middle-river?adjust_creative=dDrgJ5jr3huSDkINiLtKBw&utm_campaign=yelp_api_v3&utm_medium=api_v3_business_search&utm_source=dDrgJ5jr3huSDkINiLtKBw\",\"review_count\":429,\"categories\":[{\"alias\":\"seafood\",\"title\":\"Seafood\"},{\"alias\":\"italian\",\"title\":\"Italian\"},{\"alias\":\"steak\",\"title\":\"Steakhouses\"}],\"rating\":4.0,\"coordinates\":{\"latitude\":39.337267,\"longitude\":-76.4046092},\"transactions\":[\"delivery\",\"pickup\"],\"price\":\"$$\",\"location\":{\"address1\":\"3321 Eastern Blvd\",\"address2\":\"\",\"address3\":\"\",\"city\":\"Middle River\",\"zip_code\":\"21220\",\"country\":\"US\",\"state\":\"MD\",\"display_address\":[\"3321 Eastern Blvd\",\"Middle River, MD 21220\"]},\"phone\":\"+14106861188\",\"display_phone\":\"(410) 686-1188\",\"distance\":19450.6322499001},{\"id\":\"iNmxDUGf6GuPgkjp5-EEHg\",\"alias\":\"the-crab-queen-randallstown\",\"name\":\"The Crab Queen\",\"image_url\":\"https:\\\\/\\\\/s3-media4.fl.yelpcdn.com\\\\/bphoto\\\\/OXNgUYqFng_z26AHRT7oIQ\\\\/o.jpg\",\"is_closed\":false,\"url\":\"https:\\\\/\\\\/www.yelp.com\\\\/biz\\\\/the-crab-queen-randallstown?adjust_creative=dDrgJ5jr3huSDkINiLtKBw&utm_campaign=yelp_api_v3&utm_medium=api_v3_business_search&utm_source=dDrgJ5jr3huSDkINiLtKBw\",\"review_count\":71,\"categories\":[{\"alias\":\"seafood\",\"title\":\"Seafood\"},{\"alias\":\"italian\",\"title\":\"Italian\"},{\"alias\":\"sandwiches\",\"title\":\"Sandwiches\"}],\"rating\":4.0,\"coordinates\":{\"latitude\":39.37117,\"longitude\":-76.79771},\"transactions\":[\"delivery\",\"pickup\"],\"price\":\"$$\",\"location\":{\"address1\":\"3699 1\\\\/2 Offutt Rd\",\"address2\":\"\",\"address3\":null,\"city\":\"Randallstown\",\"zip_code\":\"21133\",\"country\":\"US\",\"state\":\"MD\",\"display_address\":[\"3699 1\\\\/2 Offutt Rd\",\"Randallstown, MD 21133\"]},\"phone\":\"+14438432722\",\"display_phone\":\"(443) 843-2722\",\"distance\":18079.9174556038},{\"id\":\"8-cBsSXmLaGK6qCD0tmcZg\",\"alias\":\"the-food-market-baltimore\",\"name\":\"The Food Market\",\"image_url\":\"https:\\\\/\\\\/s3-media4.fl.yelpcdn.com\\\\/bphoto\\\\/8vVCxzcUGXcU9fU4Y9mTsg\\\\/o.jpg\",\"is_closed\":false,\"url\":\"https:\\\\/\\\\/www.yelp.com\\\\/biz\\\\/the-food-market-baltimore?adjust_creative=dDrgJ5jr3huSDkINiLtKBw&utm_campaign=yelp_api_v3&utm_medium=api_v3_business_search&utm_source=dDrgJ5jr3huSDkINiLtKBw\",\"review_count\":1352,\"categories\":[{\"alias\":\"newamerican\",\"title\":\"American (New)\"}],\"rating\":4.5,\"coordinates\":{\"latitude\":39.3310122069,\"longitude\":-76.6331992056},\"transactions\":[\"delivery\"],\"price\":\"$$\",\"location\":{\"address1\":\"1017 W 36th St\",\"address2\":\"\",\"address3\":\"\",\"city\":\"Baltimore\",\"zip_code\":\"21211\",\"country\":\"US\",\"state\":\"MD\",\"display_address\":[\"1017 W 36th St\",\"Baltimore, MD 21211\"]},\"phone\":\"+14103660606\",\"display_phone\":\"(410) 366-0606\",\"distance\":5329.9226462133},{\"id\":\"47Q2Xv30J9lu16UHnRmYvA\",\"alias\":\"sobo-cafe-baltimore\",\"name\":\"SoBo Cafe\",\"image_url\":\"https:\\\\/\\\\/s3-media1.fl.yelpcdn.com\\\\/bphoto\\\\/9BNnE3YOSCfa1c8pO4WzRg\\\\/o.jpg\",\"is_closed\":false,\"url\":\"https:\\\\/\\\\/www.yelp.com\\\\/biz\\\\/sobo-cafe-baltimore?adjust_creative=dDrgJ5jr3huSDkINiLtKBw&utm_campaign=yelp_api_v3&utm_medium=api_v3_business_search&utm_source=dDrgJ5jr3huSDkINiLtKBw\",\"review_count\":444,\"categories\":[{\"alias\":\"newamerican\",\"title\":\"American (New)\"},{\"alias\":\"comfortfood\",\"title\":\"Comfort Food\"},{\"alias\":\"cafes\",\"title\":\"Cafes\"}],\"rating\":4.5,\"coordinates\":{\"latitude\":39.2768999,\"longitude\":-76.6148686},\"transactions\":[\"delivery\",\"pickup\"],\"price\":\"$$\",\"location\":{\"address1\":\"6 W Cross St\",\"address2\":null,\"address3\":\"\",\"city\":\"Baltimore\",\"zip_code\":\"21230\",\"country\":\"US\",\"state\":\"MD\",\"display_address\":[\"6 W Cross St\",\"Baltimore, MD 21230\"]},\"phone\":\"+14107521518\",\"display_phone\":\"(410) 752-1518\",\"distance\":922.7615032637}]'"
      ]
     },
     "execution_count": 16,
     "metadata": {},
     "output_type": "execute_result"
    }
   ],
   "source": [
    "businesses.to_json(orient = 'records')"
   ]
  },
  {
   "cell_type": "code",
   "execution_count": null,
   "id": "00d8fe7a",
   "metadata": {},
   "outputs": [],
   "source": []
  }
 ],
 "metadata": {
  "kernelspec": {
   "display_name": "Python (dojo-env)",
   "language": "python",
   "name": "dojo-env"
  },
  "language_info": {
   "codemirror_mode": {
    "name": "ipython",
    "version": 3
   },
   "file_extension": ".py",
   "mimetype": "text/x-python",
   "name": "python",
   "nbconvert_exporter": "python",
   "pygments_lexer": "ipython3",
   "version": "3.9.15"
  },
  "toc": {
   "base_numbering": 1,
   "nav_menu": {},
   "number_sections": false,
   "sideBar": true,
   "skip_h1_title": false,
   "title_cell": "Table of Contents",
   "title_sidebar": "Contents",
   "toc_cell": false,
   "toc_position": {},
   "toc_section_display": true,
   "toc_window_display": false
  }
 },
 "nbformat": 4,
 "nbformat_minor": 5
}
